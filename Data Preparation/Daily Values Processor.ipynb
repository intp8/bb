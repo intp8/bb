{
 "cells": [
  {
   "cell_type": "code",
   "execution_count": 1,
   "metadata": {},
   "outputs": [],
   "source": [
    "import pandas as pd\n",
    "import numpy as np"
   ]
  },
  {
   "cell_type": "markdown",
   "metadata": {},
   "source": [
    "## Import and tidy up Weather data"
   ]
  },
  {
   "cell_type": "code",
   "execution_count": 2,
   "metadata": {},
   "outputs": [],
   "source": [
    "wr = pd.read_csv(\"../data/weather_history.csv\", low_memory=False) "
   ]
  },
  {
   "cell_type": "code",
   "execution_count": 3,
   "metadata": {},
   "outputs": [],
   "source": [
    "wr = wr.dropna(how='all', axis=1)\n",
    "wr = wr.drop('WW', axis=1)\n",
    "wr = wr.rename(columns={ wr.columns[0]: \"Time\" })"
   ]
  },
  {
   "cell_type": "code",
   "execution_count": 4,
   "metadata": {},
   "outputs": [],
   "source": [
    "wr = wr.rename(columns={'T':'Temp','U':'Rel_Humidity','DD':'Wind_Dir',\n",
    "                        'Tn':'Min_Temp','Tx':'Max_Temp','Td':'Dew_Temp',\n",
    "                        'RRR':'Rain','tR':'Rain_Time','Tg':'Night_Soil_Temp'})\n",
    "wr = wr.drop(['Dew_Temp','Night_Soil_Temp','Min_Temp','Max_Temp','Wind_Dir'], axis=1)"
   ]
  },
  {
   "cell_type": "code",
   "execution_count": 5,
   "metadata": {},
   "outputs": [],
   "source": [
    "wr['Rain'].replace('No precipitation',0, inplace=True)\n",
    "wr['Rain'] = pd.to_numeric(wr['Rain'])\n",
    "wr['Hourly_Rain'] = wr['Rain'] / wr['Rain_Time']\n",
    "wr = wr.drop(['Rain','Rain_Time'], axis = 1) # unclear why Rain_Time is sometimes 6 and sometimes 12\n",
    "wr['Time'] = pd.to_datetime(wr['Time'], dayfirst=True)"
   ]
  },
  {
   "cell_type": "code",
   "execution_count": 6,
   "metadata": {},
   "outputs": [],
   "source": [
    "wr['Hour'] = wr['Time'].dt.hour\n",
    "wr['Date'] = wr['Time'].dt.date"
   ]
  },
  {
   "cell_type": "markdown",
   "metadata": {},
   "source": [
    "## Aggregate weather by day"
   ]
  },
  {
   "cell_type": "code",
   "execution_count": 7,
   "metadata": {},
   "outputs": [],
   "source": [
    "wrd = wr.groupby('Date').mean().reset_index()\n",
    "wrd = wrd.drop('Hour', axis=1)\n",
    "wrd['Date'] = pd.to_datetime(wrd['Date'])\n",
    "wrd['Date'] = wrd['Date'].dt.date\n",
    "wrd.to_csv('daily-weather.csv')"
   ]
  },
  {
   "cell_type": "markdown",
   "metadata": {},
   "source": [
    "## Import and tidy up Daily Cycle Hire data"
   ]
  },
  {
   "cell_type": "code",
   "execution_count": 8,
   "metadata": {},
   "outputs": [],
   "source": [
    "dh = pd.read_csv(\"../data/daily-hires.csv\")"
   ]
  },
  {
   "cell_type": "code",
   "execution_count": 9,
   "metadata": {},
   "outputs": [],
   "source": [
    "dh['Date'] = pd.to_datetime(dh['Date'], dayfirst=True)\n",
    "dh['Month'] = dh['Date'].dt.month\n",
    "dh['Year'] = dh['Date'].dt.year\n",
    "dh['Weekday'] = dh['Date'].dt.weekday\n",
    "dh=dh.rename(columns={'Weekday':'Day_of_Week'})\n",
    "dh['Weekend'] = dh['Day_of_Week'] > 4\n",
    "dh['Day_of_Year'] = dh['Date'].dt.dayofyear\n",
    "dh['Hires']=dh['Hires'].astype(int)\n",
    "dh['Date'] = dh['Date'].dt.date\n",
    "dh = dh.sort_values(by=\"Date\")"
   ]
  },
  {
   "cell_type": "code",
   "execution_count": 10,
   "metadata": {},
   "outputs": [],
   "source": [
    "days=[\"Mon\",\"Tues\",\"Wed\",\"Thu\",\"Fri\",\"Sat\",\"Sun\"]\n",
    "def day(number):\n",
    "    return days[number]\n",
    "\n",
    "dh['Day'] = dh['Day_of_Week'].apply(day)"
   ]
  },
  {
   "cell_type": "markdown",
   "metadata": {},
   "source": [
    "### Import Strikes data"
   ]
  },
  {
   "cell_type": "code",
   "execution_count": 11,
   "metadata": {},
   "outputs": [],
   "source": [
    "strikes = pd.read_csv('../data/tube-strikes.csv')\n",
    "strikes['Strike_Evening'] = pd.to_datetime(strikes['Strike_Evening'], dayfirst=True)\n",
    "strikes['Strike_Daytime'] = pd.to_datetime(strikes['Strike_Daytime'], dayfirst=True)"
   ]
  },
  {
   "cell_type": "markdown",
   "metadata": {},
   "source": [
    "### import bank holidays"
   ]
  },
  {
   "cell_type": "code",
   "execution_count": 12,
   "metadata": {},
   "outputs": [],
   "source": [
    "bank = pd.read_csv('../data/bank-holidays.csv')\n",
    "bank['Date'] = pd.to_datetime(bank['Date'], dayfirst=True)"
   ]
  },
  {
   "cell_type": "markdown",
   "metadata": {},
   "source": [
    "### import major London cycle accidents"
   ]
  },
  {
   "cell_type": "code",
   "execution_count": 13,
   "metadata": {},
   "outputs": [],
   "source": [
    "cyc = pd.read_csv('../data/cycle-deaths-injuries.csv')"
   ]
  },
  {
   "cell_type": "code",
   "execution_count": 14,
   "metadata": {},
   "outputs": [],
   "source": [
    "death = cyc[cyc['Type']=='death']\n",
    "death = list(death['Date'])\n",
    "inj = cyc[cyc['Type']=='injury']\n",
    "inj = list(inj['Date'])"
   ]
  },
  {
   "cell_type": "markdown",
   "metadata": {},
   "source": [
    "\n",
    "## Import network size data"
   ]
  },
  {
   "cell_type": "code",
   "execution_count": 15,
   "metadata": {
    "scrolled": true
   },
   "outputs": [],
   "source": [
    "nw = pd.read_csv(\"../data/hire-bike-volumes.csv\")\n",
    "\n",
    "nw = nw.rename(columns={'Stations':'Dock_Points'})\n",
    "nw['Date'] = pd.to_datetime(nw['Date'], dayfirst=True).dt.date\n",
    "\n",
    "#impute missing values using last known or estimated value\n",
    "nw = nw.fillna(method='ffill')\n",
    "nw =nw.replace({'Registration': {'Yes': True, 'No': False},\n",
    "               'Weekly_Fee':{'y': True, 'n': False}})"
   ]
  },
  {
   "cell_type": "markdown",
   "metadata": {},
   "source": [
    "### Join Daily Cycle Hire, Aggregated Daily Weather, and Network Size data"
   ]
  },
  {
   "cell_type": "code",
   "execution_count": 16,
   "metadata": {},
   "outputs": [],
   "source": [
    "daily = dh.merge(wrd, how='left', on='Date')\n",
    "daily = daily.merge(nw, how='left', on='Date')\n",
    "daily['Date'] = pd.to_datetime(daily['Date'])\n",
    "daily = daily.sort_values(by=\"Date\")"
   ]
  },
  {
   "cell_type": "code",
   "execution_count": 17,
   "metadata": {},
   "outputs": [],
   "source": [
    "fill_cols = ['Bicycles','Dock_Points','Registration','Sponsor','Fee','Weekly_Fee','Mobike','Ofo','Obike','Urbo']\n",
    "daily[fill_cols] = daily[fill_cols].fillna(method='ffill')"
   ]
  },
  {
   "cell_type": "markdown",
   "metadata": {},
   "source": [
    "### Add strikes and bank holidays"
   ]
  },
  {
   "cell_type": "code",
   "execution_count": 18,
   "metadata": {},
   "outputs": [],
   "source": [
    "daily['Strike_Evening'] = daily['Date'].isin(strikes['Strike_Evening'])\n",
    "daily['Strike_Daytime'] = daily['Date'].isin(strikes['Strike_Daytime'])\n",
    "daily['Bank_Hol'] = daily['Date'].isin(bank['Date'])"
   ]
  },
  {
   "cell_type": "code",
   "execution_count": 19,
   "metadata": {},
   "outputs": [],
   "source": [
    "daily['Wkend_or_Hol'] = (daily['Bank_Hol']) | (daily['Weekend'])"
   ]
  },
  {
   "cell_type": "code",
   "execution_count": 20,
   "metadata": {},
   "outputs": [],
   "source": [
    "daily['Death'] = daily['Date'].isin(death)\n",
    "daily['Inj'] = daily['Date'].isin(inj)\n",
    "daily['KSI'] = (daily['Death']) | (daily['Inj'])"
   ]
  },
  {
   "cell_type": "markdown",
   "metadata": {},
   "source": [
    "### import daylight hours"
   ]
  },
  {
   "cell_type": "code",
   "execution_count": 21,
   "metadata": {},
   "outputs": [],
   "source": [
    "light = pd.read_csv('../data/civil-twilight-2017.csv')\n",
    "\n",
    "light['Dark'] = pd.to_datetime(light['Dark'],format= '%H:%M')\n",
    "light['Light'] = pd.to_datetime(light['Light'],format= '%H:%M')\n",
    "\n",
    "light['Hours_Light'] = (light['Dark'] - light['Light'])\n",
    "light['Dark'] = light['Dark'].dt.time\n",
    "light['Light'] = light['Light'].dt.time\n",
    "\n",
    "light['Hours_Light'] = (light['Hours_Light'].dt.seconds) / 3600\n",
    "\n",
    "light['Day_of_Year'] = pd.to_datetime(light['Date']).dt.dayofyear\n",
    "light = light.drop(['Date'], axis=1)"
   ]
  },
  {
   "cell_type": "code",
   "execution_count": 22,
   "metadata": {},
   "outputs": [],
   "source": [
    "daily = daily.merge(light, how='left', on='Day_of_Year')"
   ]
  },
  {
   "cell_type": "code",
   "execution_count": 23,
   "metadata": {},
   "outputs": [],
   "source": [
    "daily['KSI_day_before'] = daily['KSI'].shift(1)"
   ]
  },
  {
   "cell_type": "code",
   "execution_count": 24,
   "metadata": {},
   "outputs": [],
   "source": [
    "daily.to_csv('daily.csv', index=False)"
   ]
  }
 ],
 "metadata": {
  "kernelspec": {
   "display_name": "Python 3",
   "language": "python",
   "name": "python3"
  },
  "language_info": {
   "codemirror_mode": {
    "name": "ipython",
    "version": 3
   },
   "file_extension": ".py",
   "mimetype": "text/x-python",
   "name": "python",
   "nbconvert_exporter": "python",
   "pygments_lexer": "ipython3",
   "version": "3.6.6"
  }
 },
 "nbformat": 4,
 "nbformat_minor": 2
}
