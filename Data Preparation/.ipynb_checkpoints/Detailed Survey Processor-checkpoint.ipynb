{
 "cells": [
  {
   "cell_type": "code",
   "execution_count": 22,
   "metadata": {
    "extensions": {
     "jupyter_dashboards": {
      "version": 1,
      "views": {
       "grid_default": {},
       "report_default": {
        "hidden": true
       }
      }
     }
    }
   },
   "outputs": [],
   "source": [
    "import pandas as pd\n",
    "import numpy as np\n",
    "import seaborn as sns\n",
    "import matplotlib.pyplot as plt\n",
    "import ipywidgets as w\n",
    "from IPython.display import display\n",
    "from IPython.display import clear_output\n",
    "import nbinteract as nbi\n",
    "sns.set(palette='Set1')"
   ]
  },
  {
   "cell_type": "code",
   "execution_count": 23,
   "metadata": {
    "extensions": {
     "jupyter_dashboards": {
      "version": 1,
      "views": {
       "grid_default": {},
       "report_default": {
        "hidden": true
       }
      }
     }
    }
   },
   "outputs": [],
   "source": [
    "df = pd.read_csv('data/detailed-survey.csv')\n",
    "df = df.dropna()\n",
    "df['Weather'] = df['Weather'].astype(str)\n",
    "df['Survey Date'] = pd.to_datetime(df['Survey Date'])\n",
    "df['Month'] = df['Survey Date'].dt.month\n",
    "df['Day_of_Week'] = df['Survey Date'].dt.weekday.astype(int)\n",
    "df['TimeStamp'] = pd.to_datetime((df['Start Hour'].astype(str) + \":\" + df['Start Minute'].astype(str)), format=\"%H:%M\").dt.time"
   ]
  },
  {
   "cell_type": "code",
   "execution_count": 24,
   "metadata": {
    "extensions": {
     "jupyter_dashboards": {
      "version": 1,
      "views": {
       "grid_default": {},
       "report_default": {
        "hidden": true
       }
      }
     }
    }
   },
   "outputs": [],
   "source": [
    "lt = pd.read_csv('data/daylight-hours.csv')\n",
    "lt['Dawn'] = pd.to_datetime(lt['Dawn'])\n",
    "lt['Dawn'] = lt['Dawn'].dt.time\n",
    "lt['Dusk'] = pd.to_datetime(lt['Dusk'])\n",
    "lt['Dusk'] = lt['Dusk'].dt.time"
   ]
  },
  {
   "cell_type": "code",
   "execution_count": 25,
   "metadata": {
    "extensions": {
     "jupyter_dashboards": {
      "version": 1,
      "views": {
       "grid_default": {},
       "report_default": {
        "hidden": true
       }
      }
     }
    }
   },
   "outputs": [],
   "source": [
    "df = df.merge(lt,how='left',on='Month')"
   ]
  },
  {
   "cell_type": "code",
   "execution_count": 26,
   "metadata": {
    "extensions": {
     "jupyter_dashboards": {
      "version": 1,
      "views": {
       "grid_default": {},
       "report_default": {
        "hidden": true
       }
      }
     }
    }
   },
   "outputs": [],
   "source": [
    "days=[\"Mon\",\"Tues\",\"Wed\",\"Thu\",\"Fri\",\"Sat\",\"Sun\"]\n",
    "\n",
    "def day(number):\n",
    "    return days[number]\n",
    "\n",
    "def weekend(day):\n",
    "    weekends = ['Sat','Sun']\n",
    "    if day in weekends:\n",
    "        return True\n",
    "    else:\n",
    "        return False\n",
    "\n",
    "def bad_weather(weather):\n",
    "    bad = ['cold','frost','wet','damp','sleet','snow','rain','shower','drizzle','hail']\n",
    "    \n",
    "    for i in bad:\n",
    "        if i in weather.lower():\n",
    "            return True\n",
    "        else:\n",
    "            continue            \n",
    "    return False    \n",
    "\n",
    "def isdark(row):\n",
    "    if (row['TimeStamp'] < row['Dawn']) or (row['TimeStamp'] > row['Dusk']):\n",
    "        return True\n",
    "    else:\n",
    "        return False"
   ]
  },
  {
   "cell_type": "code",
   "execution_count": 28,
   "metadata": {
    "extensions": {
     "jupyter_dashboards": {
      "version": 1,
      "views": {
       "grid_default": {},
       "report_default": {
        "hidden": true
       }
      }
     }
    }
   },
   "outputs": [],
   "source": [
    "df['Day'] = df['Day_of_Week'].apply(day)\n",
    "df['Weekend'] = df['Day'].apply(weekend)\n",
    "df['Bad Weather'] = df['Weather'].apply(bad_weather)\n",
    "df['Dark'] = df.apply(isdark, axis=1)"
   ]
  },
  {
   "cell_type": "code",
   "execution_count": 29,
   "metadata": {},
   "outputs": [],
   "source": [
    "dfcomp = df"
   ]
  },
  {
   "cell_type": "code",
   "execution_count": 31,
   "metadata": {},
   "outputs": [],
   "source": [
    "dfcomp.to_csv('data/detailed-survey-extra-cols.csv', index=False)"
   ]
  }
 ],
 "metadata": {
  "extensions": {
   "jupyter_dashboards": {
    "activeView": "report_default",
    "version": 1,
    "views": {
     "grid_default": {
      "cellMargin": 10,
      "defaultCellHeight": 20,
      "maxColumns": 12,
      "name": "grid",
      "type": "grid"
     },
     "report_default": {
      "name": "report",
      "type": "report"
     }
    }
   }
  },
  "kernelspec": {
   "display_name": "Python 3",
   "language": "python",
   "name": "python3"
  },
  "language_info": {
   "codemirror_mode": {
    "name": "ipython",
    "version": 3
   },
   "file_extension": ".py",
   "mimetype": "text/x-python",
   "name": "python",
   "nbconvert_exporter": "python",
   "pygments_lexer": "ipython3",
   "version": "3.6.6"
  },
  "widgets": {
   "application/vnd.jupyter.widget-state+json": {
    "state": {
     "00011df67285425b80407c4efeb39e98": {
      "model_module": "@jupyter-widgets/base",
      "model_module_version": "1.1.0",
      "model_name": "LayoutModel",
      "state": {}
     },
     "0072980a431f4254bcbc16037849e5be": {
      "model_module": "@jupyter-widgets/controls",
      "model_module_version": "1.4.0",
      "model_name": "ButtonStyleModel",
      "state": {}
     },
     "01314bf8b3de41a08d5002c28c5d2c9b": {
      "model_module": "@jupyter-widgets/base",
      "model_module_version": "1.1.0",
      "model_name": "LayoutModel",
      "state": {}
     },
     "028b2c737d8d4be49f75121495a645f2": {
      "model_module": "@jupyter-widgets/controls",
      "model_module_version": "1.4.0",
      "model_name": "ButtonStyleModel",
      "state": {}
     },
     "03ab3fb6ac3c40c799d89cd04f81105c": {
      "model_module": "@jupyter-widgets/controls",
      "model_module_version": "1.4.0",
      "model_name": "VBoxModel",
      "state": {
       "children": [
        "IPY_MODEL_21669b6c038240cd97b043e1a8bff1c6",
        "IPY_MODEL_c5c601fe073343ada5dc94da82eff227",
        "IPY_MODEL_dfc91348f6b7476ebf70e0cfcb18ab6a",
        "IPY_MODEL_6fb6068dfb354f7abb13be538a872a7f"
       ],
       "layout": "IPY_MODEL_d67cfca4d6b54f01ac93120e4cb257a5"
      }
     },
     "056fcd78178a4157b7dfc2f2a89d7b1d": {
      "model_module": "@jupyter-widgets/controls",
      "model_module_version": "1.4.0",
      "model_name": "ButtonStyleModel",
      "state": {}
     },
     "059eff1d004c4f26a0d19f86de70ac09": {
      "model_module": "@jupyter-widgets/base",
      "model_module_version": "1.1.0",
      "model_name": "LayoutModel",
      "state": {}
     },
     "06343acedb07435cb5f07a452af22b6a": {
      "model_module": "@jupyter-widgets/base",
      "model_module_version": "1.1.0",
      "model_name": "LayoutModel",
      "state": {}
     },
     "06352e680f80431e912ae51c737ec64a": {
      "model_module": "@jupyter-widgets/base",
      "model_module_version": "1.1.0",
      "model_name": "LayoutModel",
      "state": {}
     },
     "06690e7f011147edaf0e8e8d87c0a35d": {
      "model_module": "@jupyter-widgets/controls",
      "model_module_version": "1.4.0",
      "model_name": "ButtonStyleModel",
      "state": {}
     },
     "076a5a715a714f15adc7605d76835d0d": {
      "model_module": "@jupyter-widgets/base",
      "model_module_version": "1.1.0",
      "model_name": "LayoutModel",
      "state": {}
     },
     "08082f37bb6f4ea8a0dfeab19974b30c": {
      "model_module": "@jupyter-widgets/controls",
      "model_module_version": "1.4.0",
      "model_name": "ButtonModel",
      "state": {
       "description": "Update",
       "layout": "IPY_MODEL_6e60865c7de04445b8ee855d4bb541e2",
       "style": "IPY_MODEL_797f13d3a9a749c099cd07f7c66413c0"
      }
     },
     "081b87b3b71f4103978df07998c5a5b4": {
      "model_module": "@jupyter-widgets/controls",
      "model_module_version": "1.4.0",
      "model_name": "VBoxModel",
      "state": {
       "children": [
        "IPY_MODEL_e09d651e710349aa99856bb9087ba2b2",
        "IPY_MODEL_d4f9c8f205324c138ac5b8d335bbaaad",
        "IPY_MODEL_838df9e6f8b54b4a820974e37585fefc",
        "IPY_MODEL_858240ffc3c54013ab0030534d5ac94f"
       ],
       "layout": "IPY_MODEL_e03e8db85e734340b58b5aa81af9cb62"
      }
     },
     "0a310bc3293b47dd835c90b9afc5c526": {
      "model_module": "@jupyter-widgets/controls",
      "model_module_version": "1.4.0",
      "model_name": "ButtonModel",
      "state": {
       "description": "Update",
       "layout": "IPY_MODEL_2fe36b1e3fad4b03b3febe0f6b1fdf37",
       "style": "IPY_MODEL_f4ec2040e85b496b97973e8fc87d02c1"
      }
     },
     "0a94523aa961443aa2cf54d320ef90ef": {
      "model_module": "@jupyter-widgets/controls",
      "model_module_version": "1.4.0",
      "model_name": "VBoxModel",
      "state": {
       "children": [
        "IPY_MODEL_e09d651e710349aa99856bb9087ba2b2",
        "IPY_MODEL_d4f9c8f205324c138ac5b8d335bbaaad",
        "IPY_MODEL_838df9e6f8b54b4a820974e37585fefc",
        "IPY_MODEL_f0a1f1bf8fbf4afea843c2ce678efcb5"
       ],
       "layout": "IPY_MODEL_7b6141c888734cd3b35b31fce392661f"
      }
     },
     "0aa50c21196a4ba3b4fa23595fab3f63": {
      "model_module": "@jupyter-widgets/controls",
      "model_module_version": "1.4.0",
      "model_name": "ButtonModel",
      "state": {
       "description": "Update",
       "layout": "IPY_MODEL_ba7ef0bf9dc042e1b50d023f7c6afe1f",
       "style": "IPY_MODEL_eead835765244681915b5bab4859f6fa"
      }
     },
     "0b110a0fc96a475caec451423716c5e9": {
      "model_module": "@jupyter-widgets/controls",
      "model_module_version": "1.4.0",
      "model_name": "ButtonModel",
      "state": {
       "description": "Update",
       "layout": "IPY_MODEL_5ba152f2ee0742928e98de88ce59c269",
       "style": "IPY_MODEL_6fdfa073268149de9f85b2b8470444b3"
      }
     },
     "0da10b7cc14a42059f03a105a2c057bd": {
      "model_module": "@jupyter-widgets/base",
      "model_module_version": "1.1.0",
      "model_name": "LayoutModel",
      "state": {}
     },
     "0da1cf741de1442cbd3077a4110f59ca": {
      "model_module": "@jupyter-widgets/controls",
      "model_module_version": "1.4.0",
      "model_name": "ButtonStyleModel",
      "state": {}
     },
     "0db96f79a3344e5781ae892a73a28d20": {
      "model_module": "@jupyter-widgets/controls",
      "model_module_version": "1.4.0",
      "model_name": "VBoxModel",
      "state": {
       "children": [
        "IPY_MODEL_e09d651e710349aa99856bb9087ba2b2",
        "IPY_MODEL_d4f9c8f205324c138ac5b8d335bbaaad",
        "IPY_MODEL_838df9e6f8b54b4a820974e37585fefc",
        "IPY_MODEL_608c2720178a47c3bb8c55b4b1073177"
       ],
       "layout": "IPY_MODEL_7f2692462a5e44c6a1fce6b83725de36"
      }
     },
     "0eb7eaace06d4b90a24fc893d11b7d9d": {
      "model_module": "@jupyter-widgets/base",
      "model_module_version": "1.1.0",
      "model_name": "LayoutModel",
      "state": {}
     },
     "0fe6ce5e2a164859bf3d17daf33028fc": {
      "model_module": "@jupyter-widgets/controls",
      "model_module_version": "1.4.0",
      "model_name": "DescriptionStyleModel",
      "state": {
       "description_width": ""
      }
     },
     "119f0e4c2da34bdb8829ab0d0b859aed": {
      "model_module": "@jupyter-widgets/controls",
      "model_module_version": "1.4.0",
      "model_name": "ButtonStyleModel",
      "state": {}
     },
     "120e5cd13fb847cc91207e9a202f61ef": {
      "model_module": "@jupyter-widgets/controls",
      "model_module_version": "1.4.0",
      "model_name": "ButtonModel",
      "state": {
       "description": "Update",
       "layout": "IPY_MODEL_d7a74d6b79d645b2a8dd5baa6e7b6dd0",
       "style": "IPY_MODEL_fe84dee5d02642b793faf8a9b449b840"
      }
     },
     "138f8f9dfa494c9ea5c7111523c2dc5e": {
      "model_module": "@jupyter-widgets/controls",
      "model_module_version": "1.4.0",
      "model_name": "ButtonStyleModel",
      "state": {}
     },
     "13ab252bf58640af8b73616cfe59d7ec": {
      "model_module": "@jupyter-widgets/controls",
      "model_module_version": "1.4.0",
      "model_name": "VBoxModel",
      "state": {
       "children": [
        "IPY_MODEL_21669b6c038240cd97b043e1a8bff1c6",
        "IPY_MODEL_c5c601fe073343ada5dc94da82eff227",
        "IPY_MODEL_dfc91348f6b7476ebf70e0cfcb18ab6a",
        "IPY_MODEL_f3827c795be445208e943217ce483da5"
       ],
       "layout": "IPY_MODEL_06343acedb07435cb5f07a452af22b6a"
      }
     },
     "1605d37a8f6f4da29d201e60d61f6861": {
      "model_module": "@jupyter-widgets/controls",
      "model_module_version": "1.4.0",
      "model_name": "ButtonStyleModel",
      "state": {}
     },
     "16831db5a05f483a87b644868c2ca794": {
      "model_module": "@jupyter-widgets/controls",
      "model_module_version": "1.4.0",
      "model_name": "VBoxModel",
      "state": {
       "children": [
        "IPY_MODEL_21669b6c038240cd97b043e1a8bff1c6",
        "IPY_MODEL_c5c601fe073343ada5dc94da82eff227",
        "IPY_MODEL_dfc91348f6b7476ebf70e0cfcb18ab6a",
        "IPY_MODEL_4d6e10634b554c89849140dedc2df05a"
       ],
       "layout": "IPY_MODEL_31e611c0cd7e42b68a20151c18d48402"
      }
     },
     "16a01f1c0d62470490c0c8567d8fa4db": {
      "model_module": "@jupyter-widgets/base",
      "model_module_version": "1.1.0",
      "model_name": "LayoutModel",
      "state": {}
     },
     "17152d423cc540f1b11e713bb60f20e6": {
      "model_module": "@jupyter-widgets/controls",
      "model_module_version": "1.4.0",
      "model_name": "VBoxModel",
      "state": {
       "children": [
        "IPY_MODEL_e09d651e710349aa99856bb9087ba2b2",
        "IPY_MODEL_d4f9c8f205324c138ac5b8d335bbaaad",
        "IPY_MODEL_838df9e6f8b54b4a820974e37585fefc",
        "IPY_MODEL_e26a50072a1e41f59071f3f82b97822e"
       ],
       "layout": "IPY_MODEL_5f32eb5508c74b90bb88b6d795da1d75"
      }
     },
     "174336fe251f4247aacc08aa8bd836a6": {
      "model_module": "@jupyter-widgets/base",
      "model_module_version": "1.1.0",
      "model_name": "LayoutModel",
      "state": {}
     },
     "17a26195f7b24b7c87354a5b14d5629c": {
      "model_module": "@jupyter-widgets/base",
      "model_module_version": "1.1.0",
      "model_name": "LayoutModel",
      "state": {}
     },
     "1969963a36c342fd8f85694544eb882a": {
      "model_module": "@jupyter-widgets/controls",
      "model_module_version": "1.4.0",
      "model_name": "ButtonModel",
      "state": {
       "description": "Update",
       "layout": "IPY_MODEL_a309219288d3495ebc89b2241f63f32d",
       "style": "IPY_MODEL_dfc34dba89bf4a00a81be367b464fda6"
      }
     },
     "19a6bf7900d2496fb6962af5460039d6": {
      "model_module": "@jupyter-widgets/base",
      "model_module_version": "1.1.0",
      "model_name": "LayoutModel",
      "state": {}
     },
     "1a1f4708e8244d7eaeb1fb952b2cab53": {
      "model_module": "@jupyter-widgets/controls",
      "model_module_version": "1.4.0",
      "model_name": "ButtonStyleModel",
      "state": {}
     },
     "1a24042138594bc78b45222357474e66": {
      "model_module": "@jupyter-widgets/controls",
      "model_module_version": "1.4.0",
      "model_name": "ButtonModel",
      "state": {
       "description": "Update",
       "layout": "IPY_MODEL_25aced0fa6f44a6d809f05aa72f05665",
       "style": "IPY_MODEL_06690e7f011147edaf0e8e8d87c0a35d"
      }
     },
     "1a31eebed795436cb89d0549e7e5a5e4": {
      "model_module": "@jupyter-widgets/controls",
      "model_module_version": "1.4.0",
      "model_name": "ButtonModel",
      "state": {
       "description": "Update",
       "layout": "IPY_MODEL_9bf79cceb99c4700a6b57bce481c8245",
       "style": "IPY_MODEL_b16c5fb958ca49f8802bc30408313927"
      }
     },
     "1afd09dea8a2461da3e13f2cfac6c0df": {
      "model_module": "@jupyter-widgets/controls",
      "model_module_version": "1.4.0",
      "model_name": "ButtonModel",
      "state": {
       "description": "Update",
       "layout": "IPY_MODEL_1e627c9348c64d8eb41677deaf13229f",
       "style": "IPY_MODEL_bcf913d43e724efd8832ffa1d54917bb"
      }
     },
     "1b0d1c3c3b6540cdbee0be3ce2a8490e": {
      "model_module": "@jupyter-widgets/base",
      "model_module_version": "1.1.0",
      "model_name": "LayoutModel",
      "state": {}
     },
     "1c19c37bbdec4ff885316dea9930864c": {
      "model_module": "@jupyter-widgets/controls",
      "model_module_version": "1.4.0",
      "model_name": "ButtonStyleModel",
      "state": {}
     },
     "1c3fe338b4fe42109127d2dc7001101a": {
      "model_module": "@jupyter-widgets/controls",
      "model_module_version": "1.4.0",
      "model_name": "ButtonStyleModel",
      "state": {}
     },
     "1d796ef654c54d09b06cc26a0bc9c73e": {
      "model_module": "@jupyter-widgets/controls",
      "model_module_version": "1.4.0",
      "model_name": "VBoxModel",
      "state": {
       "children": [
        "IPY_MODEL_e09d651e710349aa99856bb9087ba2b2",
        "IPY_MODEL_d4f9c8f205324c138ac5b8d335bbaaad",
        "IPY_MODEL_838df9e6f8b54b4a820974e37585fefc",
        "IPY_MODEL_a2086d7932284ad7a16a6e0ea6064387"
       ],
       "layout": "IPY_MODEL_2105ac0f457a4e94b8f881f9f9fa18b4"
      }
     },
     "1e4d0745a1fe48b6a7e174cda46f17bf": {
      "model_module": "@jupyter-widgets/controls",
      "model_module_version": "1.4.0",
      "model_name": "VBoxModel",
      "state": {
       "children": [
        "IPY_MODEL_21669b6c038240cd97b043e1a8bff1c6",
        "IPY_MODEL_c5c601fe073343ada5dc94da82eff227",
        "IPY_MODEL_dfc91348f6b7476ebf70e0cfcb18ab6a",
        "IPY_MODEL_ae4569dd3d19430c811353c3d46c751e"
       ],
       "layout": "IPY_MODEL_c934b1cd23a74ddd8bd100a3b3872d55"
      }
     },
     "1e627c9348c64d8eb41677deaf13229f": {
      "model_module": "@jupyter-widgets/base",
      "model_module_version": "1.1.0",
      "model_name": "LayoutModel",
      "state": {}
     },
     "1e8fcebd477647378ae5311914defa36": {
      "model_module": "@jupyter-widgets/controls",
      "model_module_version": "1.4.0",
      "model_name": "VBoxModel",
      "state": {
       "children": [
        "IPY_MODEL_21669b6c038240cd97b043e1a8bff1c6",
        "IPY_MODEL_c5c601fe073343ada5dc94da82eff227",
        "IPY_MODEL_dfc91348f6b7476ebf70e0cfcb18ab6a",
        "IPY_MODEL_99be6ebcce9647a583c2e7f69a02b89f"
       ],
       "layout": "IPY_MODEL_cd88b482f0854712ba0daf74b9963c1d"
      }
     },
     "1ecd33a10e2c4a81b012475b331aa675": {
      "model_module": "@jupyter-widgets/controls",
      "model_module_version": "1.4.0",
      "model_name": "ButtonModel",
      "state": {
       "description": "Update",
       "layout": "IPY_MODEL_ecd53730d9034849a72b43ac9ef32c50",
       "style": "IPY_MODEL_ff8bf84fd1154b35aca3553ede26b35c"
      }
     },
     "1f23d9dce65c4d2491b16461e6da6162": {
      "model_module": "@jupyter-widgets/controls",
      "model_module_version": "1.4.0",
      "model_name": "ButtonStyleModel",
      "state": {}
     },
     "1f9cc478196443b6ab2d07822cad33c5": {
      "model_module": "@jupyter-widgets/controls",
      "model_module_version": "1.4.0",
      "model_name": "VBoxModel",
      "state": {
       "children": [
        "IPY_MODEL_21669b6c038240cd97b043e1a8bff1c6",
        "IPY_MODEL_c5c601fe073343ada5dc94da82eff227",
        "IPY_MODEL_dfc91348f6b7476ebf70e0cfcb18ab6a",
        "IPY_MODEL_fdb521917fb84733b2b0c59ece43451b"
       ],
       "layout": "IPY_MODEL_5e684db5699e4ddeb546359b9607febc"
      }
     },
     "1fb140b2e801430e9e90962a21912575": {
      "model_module": "@jupyter-widgets/base",
      "model_module_version": "1.1.0",
      "model_name": "LayoutModel",
      "state": {}
     },
     "2105ac0f457a4e94b8f881f9f9fa18b4": {
      "model_module": "@jupyter-widgets/base",
      "model_module_version": "1.1.0",
      "model_name": "LayoutModel",
      "state": {}
     },
     "21669b6c038240cd97b043e1a8bff1c6": {
      "model_module": "@jupyter-widgets/controls",
      "model_module_version": "1.4.0",
      "model_name": "DropdownModel",
      "state": {
       "_options_labels": [
        "All",
        "Weekday",
        "Weekend"
       ],
       "description": "Time of week",
       "index": 1,
       "layout": "IPY_MODEL_363711f3a8824e35bcb27286755ae997",
       "style": "IPY_MODEL_55ffba9a590f46ff989e618fb3e7329f"
      }
     },
     "219caa24d907423ebe255d6722b93340": {
      "model_module": "@jupyter-widgets/base",
      "model_module_version": "1.1.0",
      "model_name": "LayoutModel",
      "state": {}
     },
     "246bc58dfcda4da6b4ace1665fd62c9b": {
      "model_module": "@jupyter-widgets/controls",
      "model_module_version": "1.4.0",
      "model_name": "ButtonStyleModel",
      "state": {}
     },
     "24b6dfaca31149528866d0980a8bd943": {
      "model_module": "@jupyter-widgets/base",
      "model_module_version": "1.1.0",
      "model_name": "LayoutModel",
      "state": {}
     },
     "25aced0fa6f44a6d809f05aa72f05665": {
      "model_module": "@jupyter-widgets/base",
      "model_module_version": "1.1.0",
      "model_name": "LayoutModel",
      "state": {}
     },
     "266526f2ee974fe2b671c2017605116b": {
      "model_module": "@jupyter-widgets/base",
      "model_module_version": "1.1.0",
      "model_name": "LayoutModel",
      "state": {}
     },
     "267351f3a59744cc9d8587feb682dcbe": {
      "model_module": "@jupyter-widgets/controls",
      "model_module_version": "1.4.0",
      "model_name": "ButtonStyleModel",
      "state": {}
     },
     "27cde16715b644c4870a1efe8cec6a7c": {
      "model_module": "@jupyter-widgets/base",
      "model_module_version": "1.1.0",
      "model_name": "LayoutModel",
      "state": {}
     },
     "28b1f478ed2c4a889931caec6a0f36cf": {
      "model_module": "@jupyter-widgets/base",
      "model_module_version": "1.1.0",
      "model_name": "LayoutModel",
      "state": {}
     },
     "2973416417f34a9092557a4a33815def": {
      "model_module": "@jupyter-widgets/controls",
      "model_module_version": "1.4.0",
      "model_name": "ButtonModel",
      "state": {
       "description": "Update",
       "layout": "IPY_MODEL_a0488e38c7e8440b8cbc367fdb8d9c4f",
       "style": "IPY_MODEL_e6c640896ef74bb5a2e8487519983523"
      }
     },
     "29e5f2a99a634548a518f939059b0283": {
      "model_module": "@jupyter-widgets/base",
      "model_module_version": "1.1.0",
      "model_name": "LayoutModel",
      "state": {}
     },
     "2afa6117978c4189a53661a9245f1290": {
      "model_module": "@jupyter-widgets/controls",
      "model_module_version": "1.4.0",
      "model_name": "VBoxModel",
      "state": {
       "children": [
        "IPY_MODEL_21669b6c038240cd97b043e1a8bff1c6",
        "IPY_MODEL_c5c601fe073343ada5dc94da82eff227",
        "IPY_MODEL_dfc91348f6b7476ebf70e0cfcb18ab6a",
        "IPY_MODEL_ce6b8eadd6184fbbb3ed8fc0090d2aa0"
       ],
       "layout": "IPY_MODEL_75d8d89a7b774a5a968f56620d4be304"
      }
     },
     "2ba4a11cdac4406dab10d5cd483e9c3b": {
      "model_module": "@jupyter-widgets/base",
      "model_module_version": "1.1.0",
      "model_name": "LayoutModel",
      "state": {}
     },
     "2cd0784e766a4376bb6e4859bb0d2102": {
      "model_module": "@jupyter-widgets/controls",
      "model_module_version": "1.4.0",
      "model_name": "ButtonModel",
      "state": {
       "description": "Update",
       "layout": "IPY_MODEL_a1a63ed2e44a4d7781a4aa26a262c18c",
       "style": "IPY_MODEL_2fb7fc8f989b48b78bff61ff89dbcbb0"
      }
     },
     "2d1e4e50b0d84902b28ae4288a330e9c": {
      "model_module": "@jupyter-widgets/controls",
      "model_module_version": "1.4.0",
      "model_name": "DescriptionStyleModel",
      "state": {
       "description_width": ""
      }
     },
     "2d868156e23d47ae9a130151eb10c3b2": {
      "model_module": "@jupyter-widgets/controls",
      "model_module_version": "1.4.0",
      "model_name": "ButtonStyleModel",
      "state": {}
     },
     "2ef9818ec4414ca290f02de4d4b3a04d": {
      "model_module": "@jupyter-widgets/controls",
      "model_module_version": "1.4.0",
      "model_name": "ButtonStyleModel",
      "state": {}
     },
     "2fb7fc8f989b48b78bff61ff89dbcbb0": {
      "model_module": "@jupyter-widgets/controls",
      "model_module_version": "1.4.0",
      "model_name": "ButtonStyleModel",
      "state": {}
     },
     "2fe36b1e3fad4b03b3febe0f6b1fdf37": {
      "model_module": "@jupyter-widgets/base",
      "model_module_version": "1.1.0",
      "model_name": "LayoutModel",
      "state": {}
     },
     "31e611c0cd7e42b68a20151c18d48402": {
      "model_module": "@jupyter-widgets/base",
      "model_module_version": "1.1.0",
      "model_name": "LayoutModel",
      "state": {}
     },
     "3242188db00e498ea6aaf1b51931c4ad": {
      "model_module": "@jupyter-widgets/controls",
      "model_module_version": "1.4.0",
      "model_name": "VBoxModel",
      "state": {
       "children": [
        "IPY_MODEL_21669b6c038240cd97b043e1a8bff1c6",
        "IPY_MODEL_c5c601fe073343ada5dc94da82eff227",
        "IPY_MODEL_dfc91348f6b7476ebf70e0cfcb18ab6a",
        "IPY_MODEL_8ec8e7f597ec480d8a5e893df5503cf3"
       ],
       "layout": "IPY_MODEL_d26fafb7d359425db5294f5aab3b9bc0"
      }
     },
     "32e703176dec42f9a6c9a0dc605bd364": {
      "model_module": "@jupyter-widgets/controls",
      "model_module_version": "1.4.0",
      "model_name": "VBoxModel",
      "state": {
       "children": [
        "IPY_MODEL_21669b6c038240cd97b043e1a8bff1c6",
        "IPY_MODEL_c5c601fe073343ada5dc94da82eff227",
        "IPY_MODEL_dfc91348f6b7476ebf70e0cfcb18ab6a",
        "IPY_MODEL_c60160b0057947fabfb1ea799a1b6dfb"
       ],
       "layout": "IPY_MODEL_24b6dfaca31149528866d0980a8bd943"
      }
     },
     "34c32d44d7034b6991babd607039b4b0": {
      "model_module": "@jupyter-widgets/base",
      "model_module_version": "1.1.0",
      "model_name": "LayoutModel",
      "state": {}
     },
     "3511c31642f8441685666d1ff2f75ab3": {
      "model_module": "@jupyter-widgets/controls",
      "model_module_version": "1.4.0",
      "model_name": "VBoxModel",
      "state": {
       "children": [
        "IPY_MODEL_21669b6c038240cd97b043e1a8bff1c6",
        "IPY_MODEL_c5c601fe073343ada5dc94da82eff227",
        "IPY_MODEL_dfc91348f6b7476ebf70e0cfcb18ab6a",
        "IPY_MODEL_874b4cfb81f84f96bda08e669a9450fb"
       ],
       "layout": "IPY_MODEL_a3cc3e5c35ba4c05ae5ad87e6d9f11a1"
      }
     },
     "363711f3a8824e35bcb27286755ae997": {
      "model_module": "@jupyter-widgets/base",
      "model_module_version": "1.1.0",
      "model_name": "LayoutModel",
      "state": {}
     },
     "3969a2ed4cdd4b2babdaef61e8923c5f": {
      "model_module": "@jupyter-widgets/base",
      "model_module_version": "1.1.0",
      "model_name": "LayoutModel",
      "state": {}
     },
     "3aed7f61a37c44a891c4673d20e50262": {
      "model_module": "@jupyter-widgets/base",
      "model_module_version": "1.1.0",
      "model_name": "LayoutModel",
      "state": {}
     },
     "3bdb215a242a4ea3984a9e46c5eef86c": {
      "model_module": "@jupyter-widgets/controls",
      "model_module_version": "1.4.0",
      "model_name": "ButtonStyleModel",
      "state": {}
     },
     "3d1f572f0b3b448aa0650a6e75dda768": {
      "model_module": "@jupyter-widgets/base",
      "model_module_version": "1.1.0",
      "model_name": "LayoutModel",
      "state": {}
     },
     "42898a98877e483b890be4e7d652ef78": {
      "model_module": "@jupyter-widgets/base",
      "model_module_version": "1.1.0",
      "model_name": "LayoutModel",
      "state": {}
     },
     "42c2f2107cc14714b12f3b4c36e9b308": {
      "model_module": "@jupyter-widgets/base",
      "model_module_version": "1.1.0",
      "model_name": "LayoutModel",
      "state": {}
     },
     "4526b707743a4252ab86f265caef3e0e": {
      "model_module": "@jupyter-widgets/base",
      "model_module_version": "1.1.0",
      "model_name": "LayoutModel",
      "state": {}
     },
     "45397f023ed146c78928ef628d966fc0": {
      "model_module": "@jupyter-widgets/controls",
      "model_module_version": "1.4.0",
      "model_name": "ButtonStyleModel",
      "state": {}
     },
     "45d0e235bb2a493394e6e37b9e32dd52": {
      "model_module": "@jupyter-widgets/controls",
      "model_module_version": "1.4.0",
      "model_name": "DescriptionStyleModel",
      "state": {
       "description_width": ""
      }
     },
     "46773ac95a394365b93426a12b9a1540": {
      "model_module": "@jupyter-widgets/base",
      "model_module_version": "1.1.0",
      "model_name": "LayoutModel",
      "state": {}
     },
     "468c8932b38148508be35deed7194f8d": {
      "model_module": "@jupyter-widgets/base",
      "model_module_version": "1.1.0",
      "model_name": "LayoutModel",
      "state": {}
     },
     "468dacc547f941f084a394ff6e81e890": {
      "model_module": "@jupyter-widgets/base",
      "model_module_version": "1.1.0",
      "model_name": "LayoutModel",
      "state": {}
     },
     "4698de00b4e842c69cdd86ddb6235ca7": {
      "model_module": "@jupyter-widgets/controls",
      "model_module_version": "1.4.0",
      "model_name": "ButtonModel",
      "state": {
       "description": "Update",
       "layout": "IPY_MODEL_9708bed2a66b451e91957667cf339cfe",
       "style": "IPY_MODEL_9caf236dd8974dd89fbccbc3884fb8ec"
      }
     },
     "469fada15c7b4d6daa8d3926a3bdba71": {
      "model_module": "@jupyter-widgets/base",
      "model_module_version": "1.1.0",
      "model_name": "LayoutModel",
      "state": {}
     },
     "473c1b6c23764820b457a640d4c19fd9": {
      "model_module": "@jupyter-widgets/base",
      "model_module_version": "1.1.0",
      "model_name": "LayoutModel",
      "state": {}
     },
     "488dee5778ed41108106159ca7b4995c": {
      "model_module": "@jupyter-widgets/base",
      "model_module_version": "1.1.0",
      "model_name": "LayoutModel",
      "state": {}
     },
     "48abff4f8a5e4dcdb96215e72bb3601a": {
      "model_module": "@jupyter-widgets/controls",
      "model_module_version": "1.4.0",
      "model_name": "VBoxModel",
      "state": {
       "children": [
        "IPY_MODEL_21669b6c038240cd97b043e1a8bff1c6",
        "IPY_MODEL_c5c601fe073343ada5dc94da82eff227",
        "IPY_MODEL_dfc91348f6b7476ebf70e0cfcb18ab6a",
        "IPY_MODEL_1a31eebed795436cb89d0549e7e5a5e4"
       ],
       "layout": "IPY_MODEL_e3196f0e93eb4a1d98d192f70dc0f07f"
      }
     },
     "48b24acd7b9b4348a5f399e8b2f2c721": {
      "model_module": "@jupyter-widgets/base",
      "model_module_version": "1.1.0",
      "model_name": "LayoutModel",
      "state": {}
     },
     "48b3d13cd2cf4ef5a16c6feb0096067d": {
      "model_module": "@jupyter-widgets/controls",
      "model_module_version": "1.4.0",
      "model_name": "ButtonStyleModel",
      "state": {}
     },
     "49630add53b742d5bae52299ab9d60c6": {
      "model_module": "@jupyter-widgets/controls",
      "model_module_version": "1.4.0",
      "model_name": "ButtonStyleModel",
      "state": {}
     },
     "4b6c90b4390b413f8adb100b467bb267": {
      "model_module": "@jupyter-widgets/base",
      "model_module_version": "1.1.0",
      "model_name": "LayoutModel",
      "state": {}
     },
     "4c7d38355ca84931af3c11078de24e73": {
      "model_module": "@jupyter-widgets/controls",
      "model_module_version": "1.4.0",
      "model_name": "ButtonStyleModel",
      "state": {}
     },
     "4cd85756e63f4b9cb4e27fd40c5563f8": {
      "model_module": "@jupyter-widgets/controls",
      "model_module_version": "1.4.0",
      "model_name": "VBoxModel",
      "state": {
       "children": [
        "IPY_MODEL_21669b6c038240cd97b043e1a8bff1c6",
        "IPY_MODEL_c5c601fe073343ada5dc94da82eff227",
        "IPY_MODEL_dfc91348f6b7476ebf70e0cfcb18ab6a",
        "IPY_MODEL_2973416417f34a9092557a4a33815def"
       ],
       "layout": "IPY_MODEL_468c8932b38148508be35deed7194f8d"
      }
     },
     "4d6d065931294a288f1d239e4f9bcab3": {
      "model_module": "@jupyter-widgets/base",
      "model_module_version": "1.1.0",
      "model_name": "LayoutModel",
      "state": {}
     },
     "4d6e10634b554c89849140dedc2df05a": {
      "model_module": "@jupyter-widgets/controls",
      "model_module_version": "1.4.0",
      "model_name": "ButtonModel",
      "state": {
       "description": "Update",
       "layout": "IPY_MODEL_219caa24d907423ebe255d6722b93340",
       "style": "IPY_MODEL_48b3d13cd2cf4ef5a16c6feb0096067d"
      }
     },
     "4dc4b971b43849c0b84d4945f4490bb5": {
      "model_module": "@jupyter-widgets/controls",
      "model_module_version": "1.4.0",
      "model_name": "ButtonStyleModel",
      "state": {}
     },
     "4ec3b451aebf4da3b4da1d20f84e965c": {
      "model_module": "@jupyter-widgets/base",
      "model_module_version": "1.1.0",
      "model_name": "LayoutModel",
      "state": {}
     },
     "50637a03876a4c04b312f99ec9822f35": {
      "model_module": "@jupyter-widgets/controls",
      "model_module_version": "1.4.0",
      "model_name": "ButtonStyleModel",
      "state": {}
     },
     "5189296808e741e6a27cf3d061b856d6": {
      "model_module": "@jupyter-widgets/base",
      "model_module_version": "1.1.0",
      "model_name": "LayoutModel",
      "state": {}
     },
     "543bd21343924257bf7a8a601e3a5b7e": {
      "model_module": "@jupyter-widgets/base",
      "model_module_version": "1.1.0",
      "model_name": "LayoutModel",
      "state": {}
     },
     "54e732096cfe4f17a0e3cc49cb8b3a83": {
      "model_module": "@jupyter-widgets/controls",
      "model_module_version": "1.4.0",
      "model_name": "ButtonStyleModel",
      "state": {}
     },
     "559a7e2004a243aca663d0cabf046c50": {
      "model_module": "@jupyter-widgets/controls",
      "model_module_version": "1.4.0",
      "model_name": "DescriptionStyleModel",
      "state": {
       "description_width": ""
      }
     },
     "55ffba9a590f46ff989e618fb3e7329f": {
      "model_module": "@jupyter-widgets/controls",
      "model_module_version": "1.4.0",
      "model_name": "DescriptionStyleModel",
      "state": {
       "description_width": ""
      }
     },
     "58532ce93acd4cc1af5a1d2e99e26b01": {
      "model_module": "@jupyter-widgets/controls",
      "model_module_version": "1.4.0",
      "model_name": "VBoxModel",
      "state": {
       "children": [
        "IPY_MODEL_e09d651e710349aa99856bb9087ba2b2",
        "IPY_MODEL_d4f9c8f205324c138ac5b8d335bbaaad",
        "IPY_MODEL_838df9e6f8b54b4a820974e37585fefc",
        "IPY_MODEL_d8a819005f494421916438987a80cd4c"
       ],
       "layout": "IPY_MODEL_dd963f1110774da0b9ab97bd6bdbf0e2"
      }
     },
     "5ba152f2ee0742928e98de88ce59c269": {
      "model_module": "@jupyter-widgets/base",
      "model_module_version": "1.1.0",
      "model_name": "LayoutModel",
      "state": {}
     },
     "5ba4ea7a80c64e8bb31cb02ee27d70d2": {
      "model_module": "@jupyter-widgets/base",
      "model_module_version": "1.1.0",
      "model_name": "LayoutModel",
      "state": {}
     },
     "5e684db5699e4ddeb546359b9607febc": {
      "model_module": "@jupyter-widgets/base",
      "model_module_version": "1.1.0",
      "model_name": "LayoutModel",
      "state": {}
     },
     "5f32eb5508c74b90bb88b6d795da1d75": {
      "model_module": "@jupyter-widgets/base",
      "model_module_version": "1.1.0",
      "model_name": "LayoutModel",
      "state": {}
     },
     "608c2720178a47c3bb8c55b4b1073177": {
      "model_module": "@jupyter-widgets/controls",
      "model_module_version": "1.4.0",
      "model_name": "ButtonModel",
      "state": {
       "description": "Update",
       "layout": "IPY_MODEL_076a5a715a714f15adc7605d76835d0d",
       "style": "IPY_MODEL_f1932d18de3341918425278f0075f103"
      }
     },
     "6158faadbdf74d8c8608922fe00b4eb7": {
      "model_module": "@jupyter-widgets/controls",
      "model_module_version": "1.4.0",
      "model_name": "ButtonModel",
      "state": {
       "description": "Update",
       "layout": "IPY_MODEL_66ed76cee05a4a308be18fbfbfe73af4",
       "style": "IPY_MODEL_651e3cdca6c741928ab39a5ac2be908f"
      }
     },
     "618b69302b7a4263b855baa86d2c53a0": {
      "model_module": "@jupyter-widgets/controls",
      "model_module_version": "1.4.0",
      "model_name": "ButtonModel",
      "state": {
       "description": "Update",
       "layout": "IPY_MODEL_76793840e34f432fb5f0806c3834623d",
       "style": "IPY_MODEL_119f0e4c2da34bdb8829ab0d0b859aed"
      }
     },
     "62ff789faade44d78c77004cfadb5e3d": {
      "model_module": "@jupyter-widgets/controls",
      "model_module_version": "1.4.0",
      "model_name": "DescriptionStyleModel",
      "state": {
       "description_width": ""
      }
     },
     "633d0073c4e141889bc3460a6d7eb154": {
      "model_module": "@jupyter-widgets/controls",
      "model_module_version": "1.4.0",
      "model_name": "DescriptionStyleModel",
      "state": {
       "description_width": ""
      }
     },
     "6414fbbb48ad422a82381c93aec87d57": {
      "model_module": "@jupyter-widgets/base",
      "model_module_version": "1.1.0",
      "model_name": "LayoutModel",
      "state": {}
     },
     "651e3cdca6c741928ab39a5ac2be908f": {
      "model_module": "@jupyter-widgets/controls",
      "model_module_version": "1.4.0",
      "model_name": "ButtonStyleModel",
      "state": {}
     },
     "65cec0ed166445b2b036d71660bc18be": {
      "model_module": "@jupyter-widgets/controls",
      "model_module_version": "1.4.0",
      "model_name": "VBoxModel",
      "state": {
       "children": [
        "IPY_MODEL_21669b6c038240cd97b043e1a8bff1c6",
        "IPY_MODEL_c5c601fe073343ada5dc94da82eff227",
        "IPY_MODEL_dfc91348f6b7476ebf70e0cfcb18ab6a",
        "IPY_MODEL_7a4712d3e8284e279e61dcf901ad29d5"
       ],
       "layout": "IPY_MODEL_83be343e524043dd99530a72edf71333"
      }
     },
     "66bbeb1182b449b09b42a83ea0044a02": {
      "model_module": "@jupyter-widgets/controls",
      "model_module_version": "1.4.0",
      "model_name": "ButtonStyleModel",
      "state": {}
     },
     "66ed76cee05a4a308be18fbfbfe73af4": {
      "model_module": "@jupyter-widgets/base",
      "model_module_version": "1.1.0",
      "model_name": "LayoutModel",
      "state": {}
     },
     "67a48585689c4b108e55436a0b27ce37": {
      "model_module": "@jupyter-widgets/controls",
      "model_module_version": "1.4.0",
      "model_name": "ButtonModel",
      "state": {
       "description": "Update",
       "layout": "IPY_MODEL_ca5958af300342eda910af6271d25e0a",
       "style": "IPY_MODEL_c9a4efe35bb9454198fd0dd752cc9fb5"
      }
     },
     "684c16c9d7364e2792c191be14dc40d9": {
      "model_module": "@jupyter-widgets/base",
      "model_module_version": "1.1.0",
      "model_name": "LayoutModel",
      "state": {}
     },
     "6aa5d2092c6a42ca957a825eb87df298": {
      "model_module": "@jupyter-widgets/base",
      "model_module_version": "1.1.0",
      "model_name": "LayoutModel",
      "state": {}
     },
     "6ba59ff17e2343e18854a496445682ce": {
      "model_module": "@jupyter-widgets/controls",
      "model_module_version": "1.4.0",
      "model_name": "ButtonStyleModel",
      "state": {}
     },
     "6d6e81479756445abcf2c3a3ae5ec5d9": {
      "model_module": "@jupyter-widgets/controls",
      "model_module_version": "1.4.0",
      "model_name": "ButtonStyleModel",
      "state": {}
     },
     "6d7fdd1270854c5a9d948b05e4b94898": {
      "model_module": "@jupyter-widgets/base",
      "model_module_version": "1.1.0",
      "model_name": "LayoutModel",
      "state": {}
     },
     "6de128c953cc45da97b9016e92b2b88d": {
      "model_module": "@jupyter-widgets/controls",
      "model_module_version": "1.4.0",
      "model_name": "ButtonStyleModel",
      "state": {}
     },
     "6e60865c7de04445b8ee855d4bb541e2": {
      "model_module": "@jupyter-widgets/base",
      "model_module_version": "1.1.0",
      "model_name": "LayoutModel",
      "state": {}
     },
     "6e7e12a8e84546208befb5b5dc682aef": {
      "model_module": "@jupyter-widgets/base",
      "model_module_version": "1.1.0",
      "model_name": "LayoutModel",
      "state": {}
     },
     "6eb01a69371a4e16b537bfe8f538afb3": {
      "model_module": "@jupyter-widgets/controls",
      "model_module_version": "1.4.0",
      "model_name": "VBoxModel",
      "state": {
       "children": [
        "IPY_MODEL_21669b6c038240cd97b043e1a8bff1c6",
        "IPY_MODEL_c5c601fe073343ada5dc94da82eff227",
        "IPY_MODEL_dfc91348f6b7476ebf70e0cfcb18ab6a",
        "IPY_MODEL_1afd09dea8a2461da3e13f2cfac6c0df"
       ],
       "layout": "IPY_MODEL_4526b707743a4252ab86f265caef3e0e"
      }
     },
     "6ef28783851244578a4a2f890f890562": {
      "model_module": "@jupyter-widgets/base",
      "model_module_version": "1.1.0",
      "model_name": "LayoutModel",
      "state": {}
     },
     "6fb6068dfb354f7abb13be538a872a7f": {
      "model_module": "@jupyter-widgets/controls",
      "model_module_version": "1.4.0",
      "model_name": "ButtonModel",
      "state": {
       "description": "Update",
       "layout": "IPY_MODEL_801cebf7a11444618f132a4c9e7c677c",
       "style": "IPY_MODEL_45397f023ed146c78928ef628d966fc0"
      }
     },
     "6fdfa073268149de9f85b2b8470444b3": {
      "model_module": "@jupyter-widgets/controls",
      "model_module_version": "1.4.0",
      "model_name": "ButtonStyleModel",
      "state": {}
     },
     "717490387460460f8b0ea940890848f9": {
      "model_module": "@jupyter-widgets/base",
      "model_module_version": "1.1.0",
      "model_name": "LayoutModel",
      "state": {}
     },
     "7243a76defe14431b404560964ca218f": {
      "model_module": "@jupyter-widgets/base",
      "model_module_version": "1.1.0",
      "model_name": "LayoutModel",
      "state": {}
     },
     "751d3948945547b18b026699a6c69cbf": {
      "model_module": "@jupyter-widgets/base",
      "model_module_version": "1.1.0",
      "model_name": "LayoutModel",
      "state": {}
     },
     "75d8d89a7b774a5a968f56620d4be304": {
      "model_module": "@jupyter-widgets/base",
      "model_module_version": "1.1.0",
      "model_name": "LayoutModel",
      "state": {}
     },
     "76793840e34f432fb5f0806c3834623d": {
      "model_module": "@jupyter-widgets/base",
      "model_module_version": "1.1.0",
      "model_name": "LayoutModel",
      "state": {}
     },
     "79707c0164074631ab6404838c9210bc": {
      "model_module": "@jupyter-widgets/base",
      "model_module_version": "1.1.0",
      "model_name": "LayoutModel",
      "state": {}
     },
     "797f13d3a9a749c099cd07f7c66413c0": {
      "model_module": "@jupyter-widgets/controls",
      "model_module_version": "1.4.0",
      "model_name": "ButtonStyleModel",
      "state": {}
     },
     "7a1001b25ae3492eb937a3c20cbaddc3": {
      "model_module": "@jupyter-widgets/base",
      "model_module_version": "1.1.0",
      "model_name": "LayoutModel",
      "state": {}
     },
     "7a4712d3e8284e279e61dcf901ad29d5": {
      "model_module": "@jupyter-widgets/controls",
      "model_module_version": "1.4.0",
      "model_name": "ButtonModel",
      "state": {
       "description": "Update",
       "layout": "IPY_MODEL_06352e680f80431e912ae51c737ec64a",
       "style": "IPY_MODEL_d0b63ecc8abf44bc957a8df72343e9c0"
      }
     },
     "7b6141c888734cd3b35b31fce392661f": {
      "model_module": "@jupyter-widgets/base",
      "model_module_version": "1.1.0",
      "model_name": "LayoutModel",
      "state": {}
     },
     "7d1159a7e0634884830691c121599533": {
      "model_module": "@jupyter-widgets/controls",
      "model_module_version": "1.4.0",
      "model_name": "ButtonModel",
      "state": {
       "description": "Update",
       "layout": "IPY_MODEL_3969a2ed4cdd4b2babdaef61e8923c5f",
       "style": "IPY_MODEL_fd43c8e7efca4226b05d0eb1db2ac61a"
      }
     },
     "7d4ac4f1531f4f8c957d87aa42e3474d": {
      "model_module": "@jupyter-widgets/controls",
      "model_module_version": "1.4.0",
      "model_name": "ButtonModel",
      "state": {
       "description": "Update",
       "layout": "IPY_MODEL_95ca2a6b796343fc9ba8c900e4630653",
       "style": "IPY_MODEL_267351f3a59744cc9d8587feb682dcbe"
      }
     },
     "7dd2ae44f0144fdebe01e3309bbb8288": {
      "model_module": "@jupyter-widgets/base",
      "model_module_version": "1.1.0",
      "model_name": "LayoutModel",
      "state": {}
     },
     "7df9cf20f63e4dc2b8b23bcf2fbc8482": {
      "model_module": "@jupyter-widgets/base",
      "model_module_version": "1.1.0",
      "model_name": "LayoutModel",
      "state": {}
     },
     "7eeb84ea1b2c4a2d92037a5b398d381d": {
      "model_module": "@jupyter-widgets/controls",
      "model_module_version": "1.4.0",
      "model_name": "VBoxModel",
      "state": {
       "children": [
        "IPY_MODEL_21669b6c038240cd97b043e1a8bff1c6",
        "IPY_MODEL_c5c601fe073343ada5dc94da82eff227",
        "IPY_MODEL_dfc91348f6b7476ebf70e0cfcb18ab6a",
        "IPY_MODEL_80c7318d850e4d6095aaca81052755e2"
       ],
       "layout": "IPY_MODEL_c08ce4cfd55b4ff4bcc4f81a731efdb7"
      }
     },
     "7f039bd0a5fb4ed8a427bf45b8bc88f6": {
      "model_module": "@jupyter-widgets/controls",
      "model_module_version": "1.4.0",
      "model_name": "DropdownModel",
      "state": {
       "_options_labels": [
        "All",
        "Weekday",
        "Weekend"
       ],
       "description": "Time of week",
       "index": 0,
       "layout": "IPY_MODEL_959a393ebe72403ca4c707bc0aa9b8c6",
       "style": "IPY_MODEL_917d7ccb23164775ace39a9aa1c076ad"
      }
     },
     "7f2692462a5e44c6a1fce6b83725de36": {
      "model_module": "@jupyter-widgets/base",
      "model_module_version": "1.1.0",
      "model_name": "LayoutModel",
      "state": {}
     },
     "7f994f4bbc564039875a2a8f3ba720d0": {
      "model_module": "@jupyter-widgets/controls",
      "model_module_version": "1.4.0",
      "model_name": "ButtonModel",
      "state": {
       "description": "Update",
       "layout": "IPY_MODEL_e61ccb2755e145e0bf7fb5874d3aed8e",
       "style": "IPY_MODEL_1a1f4708e8244d7eaeb1fb952b2cab53"
      }
     },
     "801cebf7a11444618f132a4c9e7c677c": {
      "model_module": "@jupyter-widgets/base",
      "model_module_version": "1.1.0",
      "model_name": "LayoutModel",
      "state": {}
     },
     "80c7318d850e4d6095aaca81052755e2": {
      "model_module": "@jupyter-widgets/controls",
      "model_module_version": "1.4.0",
      "model_name": "ButtonModel",
      "state": {
       "description": "Update",
       "layout": "IPY_MODEL_3d1f572f0b3b448aa0650a6e75dda768",
       "style": "IPY_MODEL_0da1cf741de1442cbd3077a4110f59ca"
      }
     },
     "8292f5a71d3240dd9d6064667b546e90": {
      "model_module": "@jupyter-widgets/controls",
      "model_module_version": "1.4.0",
      "model_name": "DropdownModel",
      "state": {
       "_options_labels": [
        "All",
        "Light",
        "Dark"
       ],
       "description": "Daylight",
       "index": 0,
       "layout": "IPY_MODEL_c874f34301bc43a79151df9d6bc73e84",
       "style": "IPY_MODEL_ac316b054d794ab3b4cd1d226c6568b2"
      }
     },
     "830d1e2ffe36482fa5855f9d322deb8a": {
      "model_module": "@jupyter-widgets/controls",
      "model_module_version": "1.4.0",
      "model_name": "VBoxModel",
      "state": {
       "children": [
        "IPY_MODEL_21669b6c038240cd97b043e1a8bff1c6",
        "IPY_MODEL_c5c601fe073343ada5dc94da82eff227",
        "IPY_MODEL_dfc91348f6b7476ebf70e0cfcb18ab6a",
        "IPY_MODEL_cd95996996e642f6b73bc590652bb95b"
       ],
       "layout": "IPY_MODEL_5ba4ea7a80c64e8bb31cb02ee27d70d2"
      }
     },
     "831d7c69d14a4b81a8fd08b3f213e7d4": {
      "model_module": "@jupyter-widgets/controls",
      "model_module_version": "1.4.0",
      "model_name": "DescriptionStyleModel",
      "state": {
       "description_width": ""
      }
     },
     "838df9e6f8b54b4a820974e37585fefc": {
      "model_module": "@jupyter-widgets/controls",
      "model_module_version": "1.4.0",
      "model_name": "DropdownModel",
      "state": {
       "_options_labels": [
        "All",
        "Light",
        "Dark"
       ],
       "description": "Daylight",
       "index": 1,
       "layout": "IPY_MODEL_266526f2ee974fe2b671c2017605116b",
       "style": "IPY_MODEL_633d0073c4e141889bc3460a6d7eb154"
      }
     },
     "83abe0f8a9474e74a168de5be5175e0a": {
      "model_module": "@jupyter-widgets/base",
      "model_module_version": "1.1.0",
      "model_name": "LayoutModel",
      "state": {}
     },
     "83be343e524043dd99530a72edf71333": {
      "model_module": "@jupyter-widgets/base",
      "model_module_version": "1.1.0",
      "model_name": "LayoutModel",
      "state": {}
     },
     "858240ffc3c54013ab0030534d5ac94f": {
      "model_module": "@jupyter-widgets/controls",
      "model_module_version": "1.4.0",
      "model_name": "ButtonModel",
      "state": {
       "description": "Update",
       "layout": "IPY_MODEL_b6a9e9847d1b44d99e113909e71af6df",
       "style": "IPY_MODEL_028b2c737d8d4be49f75121495a645f2"
      }
     },
     "86601c7ebc0c407a99d26e39d0a6aa71": {
      "model_module": "@jupyter-widgets/controls",
      "model_module_version": "1.4.0",
      "model_name": "VBoxModel",
      "state": {
       "children": [
        "IPY_MODEL_21669b6c038240cd97b043e1a8bff1c6",
        "IPY_MODEL_c5c601fe073343ada5dc94da82eff227",
        "IPY_MODEL_dfc91348f6b7476ebf70e0cfcb18ab6a",
        "IPY_MODEL_67a48585689c4b108e55436a0b27ce37"
       ],
       "layout": "IPY_MODEL_e809e401858b429c9aedfdce943e4537"
      }
     },
     "874b4cfb81f84f96bda08e669a9450fb": {
      "model_module": "@jupyter-widgets/controls",
      "model_module_version": "1.4.0",
      "model_name": "ButtonModel",
      "state": {
       "description": "Update",
       "layout": "IPY_MODEL_174336fe251f4247aacc08aa8bd836a6",
       "style": "IPY_MODEL_c7d4f4d0087d402da3b4a98cc81353be"
      }
     },
     "887913bcd9b14695be739d0b0a0844bd": {
      "model_module": "@jupyter-widgets/base",
      "model_module_version": "1.1.0",
      "model_name": "LayoutModel",
      "state": {}
     },
     "8a9dd12c0dc542318ae65ee7af5fdfd9": {
      "model_module": "@jupyter-widgets/base",
      "model_module_version": "1.1.0",
      "model_name": "LayoutModel",
      "state": {}
     },
     "8b062a6090b848068a2dc8f73401f97a": {
      "model_module": "@jupyter-widgets/controls",
      "model_module_version": "1.4.0",
      "model_name": "ButtonModel",
      "state": {
       "description": "Update",
       "layout": "IPY_MODEL_7dd2ae44f0144fdebe01e3309bbb8288",
       "style": "IPY_MODEL_4dc4b971b43849c0b84d4945f4490bb5"
      }
     },
     "8e66576a7d824559949950143ec8f5a0": {
      "model_module": "@jupyter-widgets/base",
      "model_module_version": "1.1.0",
      "model_name": "LayoutModel",
      "state": {}
     },
     "8ea22d2c29f84249935142d51d9df4bc": {
      "model_module": "@jupyter-widgets/controls",
      "model_module_version": "1.4.0",
      "model_name": "ButtonModel",
      "state": {
       "description": "Update",
       "layout": "IPY_MODEL_4ec3b451aebf4da3b4da1d20f84e965c",
       "style": "IPY_MODEL_bff6feab6f064fc09788348f1cd5f885"
      }
     },
     "8ebf3ba4049143778d38aa4eb81cd18b": {
      "model_module": "@jupyter-widgets/controls",
      "model_module_version": "1.4.0",
      "model_name": "ButtonModel",
      "state": {
       "description": "Update",
       "layout": "IPY_MODEL_8a9dd12c0dc542318ae65ee7af5fdfd9",
       "style": "IPY_MODEL_9a6cc62a0a2a4266ba27560c178ccbf9"
      }
     },
     "8ec8e7f597ec480d8a5e893df5503cf3": {
      "model_module": "@jupyter-widgets/controls",
      "model_module_version": "1.4.0",
      "model_name": "ButtonModel",
      "state": {
       "description": "Update",
       "layout": "IPY_MODEL_e3134939d471455e897ecb489eca108f",
       "style": "IPY_MODEL_9371204e64094ec68f283b1ad6216f3f"
      }
     },
     "8f43d9d9735e4037a0492382a9a83ce7": {
      "model_module": "@jupyter-widgets/controls",
      "model_module_version": "1.4.0",
      "model_name": "ButtonModel",
      "state": {
       "description": "Update",
       "layout": "IPY_MODEL_965588c10f2f441a86edd3fe8db9d186",
       "style": "IPY_MODEL_66bbeb1182b449b09b42a83ea0044a02"
      }
     },
     "91454d1ab00846daa7f801eb3e4e4314": {
      "model_module": "@jupyter-widgets/base",
      "model_module_version": "1.1.0",
      "model_name": "LayoutModel",
      "state": {}
     },
     "917d7ccb23164775ace39a9aa1c076ad": {
      "model_module": "@jupyter-widgets/controls",
      "model_module_version": "1.4.0",
      "model_name": "DescriptionStyleModel",
      "state": {
       "description_width": ""
      }
     },
     "92a053df2bbc4faaa5d7a2d43f7b554c": {
      "model_module": "@jupyter-widgets/base",
      "model_module_version": "1.1.0",
      "model_name": "LayoutModel",
      "state": {}
     },
     "92ffc09983d948bd888511839125f2e3": {
      "model_module": "@jupyter-widgets/controls",
      "model_module_version": "1.4.0",
      "model_name": "ButtonStyleModel",
      "state": {}
     },
     "9371204e64094ec68f283b1ad6216f3f": {
      "model_module": "@jupyter-widgets/controls",
      "model_module_version": "1.4.0",
      "model_name": "ButtonStyleModel",
      "state": {}
     },
     "93d3c24ac2cb44e3ab1b62df92a048ea": {
      "model_module": "@jupyter-widgets/base",
      "model_module_version": "1.1.0",
      "model_name": "LayoutModel",
      "state": {}
     },
     "93eb841f739749cca6a61969184e24ab": {
      "model_module": "@jupyter-widgets/base",
      "model_module_version": "1.1.0",
      "model_name": "LayoutModel",
      "state": {}
     },
     "94031d70c91e4708a0c798efbfe65e08": {
      "model_module": "@jupyter-widgets/controls",
      "model_module_version": "1.4.0",
      "model_name": "ButtonStyleModel",
      "state": {}
     },
     "959a393ebe72403ca4c707bc0aa9b8c6": {
      "model_module": "@jupyter-widgets/base",
      "model_module_version": "1.1.0",
      "model_name": "LayoutModel",
      "state": {}
     },
     "95ca2a6b796343fc9ba8c900e4630653": {
      "model_module": "@jupyter-widgets/base",
      "model_module_version": "1.1.0",
      "model_name": "LayoutModel",
      "state": {}
     },
     "95f592dc96bc439d8e5552038a599420": {
      "model_module": "@jupyter-widgets/controls",
      "model_module_version": "1.4.0",
      "model_name": "ButtonModel",
      "state": {
       "description": "Update",
       "layout": "IPY_MODEL_717490387460460f8b0ea940890848f9",
       "style": "IPY_MODEL_246bc58dfcda4da6b4ace1665fd62c9b"
      }
     },
     "965588c10f2f441a86edd3fe8db9d186": {
      "model_module": "@jupyter-widgets/base",
      "model_module_version": "1.1.0",
      "model_name": "LayoutModel",
      "state": {}
     },
     "9708bed2a66b451e91957667cf339cfe": {
      "model_module": "@jupyter-widgets/base",
      "model_module_version": "1.1.0",
      "model_name": "LayoutModel",
      "state": {}
     },
     "991f94bc3a1948bdafff0fdefe14c8a3": {
      "model_module": "@jupyter-widgets/controls",
      "model_module_version": "1.4.0",
      "model_name": "ButtonModel",
      "state": {
       "description": "Update",
       "layout": "IPY_MODEL_9e795d6f5366465db28cc3c9336d7aa6",
       "style": "IPY_MODEL_138f8f9dfa494c9ea5c7111523c2dc5e"
      }
     },
     "9941d570990942b4a435ed05773fdf9d": {
      "model_module": "@jupyter-widgets/base",
      "model_module_version": "1.1.0",
      "model_name": "LayoutModel",
      "state": {}
     },
     "99be6ebcce9647a583c2e7f69a02b89f": {
      "model_module": "@jupyter-widgets/controls",
      "model_module_version": "1.4.0",
      "model_name": "ButtonModel",
      "state": {
       "description": "Update",
       "layout": "IPY_MODEL_4b6c90b4390b413f8adb100b467bb267",
       "style": "IPY_MODEL_6de128c953cc45da97b9016e92b2b88d"
      }
     },
     "9a6cc62a0a2a4266ba27560c178ccbf9": {
      "model_module": "@jupyter-widgets/controls",
      "model_module_version": "1.4.0",
      "model_name": "ButtonStyleModel",
      "state": {}
     },
     "9bec68d2d8854ce5af658f783adf8f36": {
      "model_module": "@jupyter-widgets/base",
      "model_module_version": "1.1.0",
      "model_name": "LayoutModel",
      "state": {}
     },
     "9bf79cceb99c4700a6b57bce481c8245": {
      "model_module": "@jupyter-widgets/base",
      "model_module_version": "1.1.0",
      "model_name": "LayoutModel",
      "state": {}
     },
     "9caf236dd8974dd89fbccbc3884fb8ec": {
      "model_module": "@jupyter-widgets/controls",
      "model_module_version": "1.4.0",
      "model_name": "ButtonStyleModel",
      "state": {}
     },
     "9cddfaa5a19046018bb4bffeba72847b": {
      "model_module": "@jupyter-widgets/controls",
      "model_module_version": "1.4.0",
      "model_name": "DropdownModel",
      "state": {
       "_options_labels": [
        "All",
        "Good",
        "Bad"
       ],
       "description": "Weather",
       "index": 0,
       "layout": "IPY_MODEL_9941d570990942b4a435ed05773fdf9d",
       "style": "IPY_MODEL_62ff789faade44d78c77004cfadb5e3d"
      }
     },
     "9e795d6f5366465db28cc3c9336d7aa6": {
      "model_module": "@jupyter-widgets/base",
      "model_module_version": "1.1.0",
      "model_name": "LayoutModel",
      "state": {}
     },
     "9f9916759a044f6fa50901a4fd07b083": {
      "model_module": "@jupyter-widgets/base",
      "model_module_version": "1.1.0",
      "model_name": "LayoutModel",
      "state": {}
     },
     "a0488e38c7e8440b8cbc367fdb8d9c4f": {
      "model_module": "@jupyter-widgets/base",
      "model_module_version": "1.1.0",
      "model_name": "LayoutModel",
      "state": {}
     },
     "a1a63ed2e44a4d7781a4aa26a262c18c": {
      "model_module": "@jupyter-widgets/base",
      "model_module_version": "1.1.0",
      "model_name": "LayoutModel",
      "state": {}
     },
     "a2086d7932284ad7a16a6e0ea6064387": {
      "model_module": "@jupyter-widgets/controls",
      "model_module_version": "1.4.0",
      "model_name": "ButtonModel",
      "state": {
       "description": "Update",
       "layout": "IPY_MODEL_dab9d2e616a44063982dc58fc0f9b477",
       "style": "IPY_MODEL_6ba59ff17e2343e18854a496445682ce"
      }
     },
     "a309219288d3495ebc89b2241f63f32d": {
      "model_module": "@jupyter-widgets/base",
      "model_module_version": "1.1.0",
      "model_name": "LayoutModel",
      "state": {}
     },
     "a3bb8f21ea1f4506970c6255ba3f1848": {
      "model_module": "@jupyter-widgets/controls",
      "model_module_version": "1.4.0",
      "model_name": "ButtonModel",
      "state": {
       "description": "Update",
       "layout": "IPY_MODEL_6e7e12a8e84546208befb5b5dc682aef",
       "style": "IPY_MODEL_4c7d38355ca84931af3c11078de24e73"
      }
     },
     "a3cc3e5c35ba4c05ae5ad87e6d9f11a1": {
      "model_module": "@jupyter-widgets/base",
      "model_module_version": "1.1.0",
      "model_name": "LayoutModel",
      "state": {}
     },
     "a3fdc94b1d984eb49b11313fb8e60af5": {
      "model_module": "@jupyter-widgets/controls",
      "model_module_version": "1.4.0",
      "model_name": "VBoxModel",
      "state": {
       "children": [
        "IPY_MODEL_21669b6c038240cd97b043e1a8bff1c6",
        "IPY_MODEL_c5c601fe073343ada5dc94da82eff227",
        "IPY_MODEL_dfc91348f6b7476ebf70e0cfcb18ab6a",
        "IPY_MODEL_b6966e405f334fc787f5b9d39451e016"
       ],
       "layout": "IPY_MODEL_f7cca72f2af7481c8715435448c8ae1e"
      }
     },
     "a534d5443abd4eafb3c37ec3fb2c2b84": {
      "model_module": "@jupyter-widgets/controls",
      "model_module_version": "1.4.0",
      "model_name": "VBoxModel",
      "state": {
       "children": [
        "IPY_MODEL_21669b6c038240cd97b043e1a8bff1c6",
        "IPY_MODEL_c5c601fe073343ada5dc94da82eff227",
        "IPY_MODEL_dfc91348f6b7476ebf70e0cfcb18ab6a",
        "IPY_MODEL_8b062a6090b848068a2dc8f73401f97a"
       ],
       "layout": "IPY_MODEL_dd402c883ce94be3a30265e0bdeee756"
      }
     },
     "a5e6fe447c4840d9bdca5c7007f52427": {
      "model_module": "@jupyter-widgets/controls",
      "model_module_version": "1.4.0",
      "model_name": "VBoxModel",
      "state": {
       "children": [
        "IPY_MODEL_21669b6c038240cd97b043e1a8bff1c6",
        "IPY_MODEL_c5c601fe073343ada5dc94da82eff227",
        "IPY_MODEL_dfc91348f6b7476ebf70e0cfcb18ab6a",
        "IPY_MODEL_1969963a36c342fd8f85694544eb882a"
       ],
       "layout": "IPY_MODEL_9bec68d2d8854ce5af658f783adf8f36"
      }
     },
     "a868989e0655455aa80b109b47231122": {
      "model_module": "@jupyter-widgets/base",
      "model_module_version": "1.1.0",
      "model_name": "LayoutModel",
      "state": {}
     },
     "a95b58373ed04efaa56b7fa0449a1684": {
      "model_module": "@jupyter-widgets/base",
      "model_module_version": "1.1.0",
      "model_name": "LayoutModel",
      "state": {}
     },
     "ac316b054d794ab3b4cd1d226c6568b2": {
      "model_module": "@jupyter-widgets/controls",
      "model_module_version": "1.4.0",
      "model_name": "DescriptionStyleModel",
      "state": {
       "description_width": ""
      }
     },
     "ace2493da4334e2f8ab50182b7b318a1": {
      "model_module": "@jupyter-widgets/controls",
      "model_module_version": "1.4.0",
      "model_name": "ButtonModel",
      "state": {
       "description": "Update",
       "layout": "IPY_MODEL_2ba4a11cdac4406dab10d5cd483e9c3b",
       "style": "IPY_MODEL_54e732096cfe4f17a0e3cc49cb8b3a83"
      }
     },
     "ada5f1a6fce74b14933db574165385cf": {
      "model_module": "@jupyter-widgets/controls",
      "model_module_version": "1.4.0",
      "model_name": "VBoxModel",
      "state": {
       "children": [
        "IPY_MODEL_e09d651e710349aa99856bb9087ba2b2",
        "IPY_MODEL_d4f9c8f205324c138ac5b8d335bbaaad",
        "IPY_MODEL_838df9e6f8b54b4a820974e37585fefc",
        "IPY_MODEL_1a24042138594bc78b45222357474e66"
       ],
       "layout": "IPY_MODEL_34c32d44d7034b6991babd607039b4b0"
      }
     },
     "adecfa8ee4494e4eb60c5342b728ddf2": {
      "model_module": "@jupyter-widgets/controls",
      "model_module_version": "1.4.0",
      "model_name": "VBoxModel",
      "state": {
       "children": [
        "IPY_MODEL_21669b6c038240cd97b043e1a8bff1c6",
        "IPY_MODEL_c5c601fe073343ada5dc94da82eff227",
        "IPY_MODEL_dfc91348f6b7476ebf70e0cfcb18ab6a",
        "IPY_MODEL_991f94bc3a1948bdafff0fdefe14c8a3"
       ],
       "layout": "IPY_MODEL_b6fae894c0704ebd857efcb4c76395c7"
      }
     },
     "ae4569dd3d19430c811353c3d46c751e": {
      "model_module": "@jupyter-widgets/controls",
      "model_module_version": "1.4.0",
      "model_name": "ButtonModel",
      "state": {
       "description": "Update",
       "layout": "IPY_MODEL_bccfd9dd774449afbd969524b26ff708",
       "style": "IPY_MODEL_1605d37a8f6f4da29d201e60d61f6861"
      }
     },
     "b0b14aaeae33404eacb9098ae4a1d474": {
      "model_module": "@jupyter-widgets/controls",
      "model_module_version": "1.4.0",
      "model_name": "DropdownModel",
      "state": {
       "_options_labels": [
        "All",
        "Weekday",
        "Weekend"
       ],
       "description": "Time of week",
       "index": 0,
       "layout": "IPY_MODEL_468dacc547f941f084a394ff6e81e890",
       "style": "IPY_MODEL_feb6a720a84d4edcaf5633777020d0b5"
      }
     },
     "b0cb911b9f464c848522a6156437559c": {
      "model_module": "@jupyter-widgets/controls",
      "model_module_version": "1.4.0",
      "model_name": "VBoxModel",
      "state": {
       "children": [
        "IPY_MODEL_21669b6c038240cd97b043e1a8bff1c6",
        "IPY_MODEL_c5c601fe073343ada5dc94da82eff227",
        "IPY_MODEL_dfc91348f6b7476ebf70e0cfcb18ab6a",
        "IPY_MODEL_0a310bc3293b47dd835c90b9afc5c526"
       ],
       "layout": "IPY_MODEL_7243a76defe14431b404560964ca218f"
      }
     },
     "b16c5fb958ca49f8802bc30408313927": {
      "model_module": "@jupyter-widgets/controls",
      "model_module_version": "1.4.0",
      "model_name": "ButtonStyleModel",
      "state": {}
     },
     "b17f823b9205493081e4e88e3f7553a8": {
      "model_module": "@jupyter-widgets/controls",
      "model_module_version": "1.4.0",
      "model_name": "VBoxModel",
      "state": {
       "children": [
        "IPY_MODEL_21669b6c038240cd97b043e1a8bff1c6",
        "IPY_MODEL_c5c601fe073343ada5dc94da82eff227",
        "IPY_MODEL_dfc91348f6b7476ebf70e0cfcb18ab6a",
        "IPY_MODEL_d9d67c216318470583bfae4ebfeab2ca"
       ],
       "layout": "IPY_MODEL_d96dc2227e304736a94c33b323369ac0"
      }
     },
     "b245eb4f6e1f410988baddfe3f26ec6a": {
      "model_module": "@jupyter-widgets/base",
      "model_module_version": "1.1.0",
      "model_name": "LayoutModel",
      "state": {}
     },
     "b5b03a1332e942639d68f3e34e1cf1d8": {
      "model_module": "@jupyter-widgets/controls",
      "model_module_version": "1.4.0",
      "model_name": "ButtonModel",
      "state": {
       "description": "Update",
       "layout": "IPY_MODEL_684c16c9d7364e2792c191be14dc40d9",
       "style": "IPY_MODEL_056fcd78178a4157b7dfc2f2a89d7b1d"
      }
     },
     "b6966e405f334fc787f5b9d39451e016": {
      "model_module": "@jupyter-widgets/controls",
      "model_module_version": "1.4.0",
      "model_name": "ButtonModel",
      "state": {
       "description": "Update",
       "layout": "IPY_MODEL_8e66576a7d824559949950143ec8f5a0",
       "style": "IPY_MODEL_6d6e81479756445abcf2c3a3ae5ec5d9"
      }
     },
     "b6a9e9847d1b44d99e113909e71af6df": {
      "model_module": "@jupyter-widgets/base",
      "model_module_version": "1.1.0",
      "model_name": "LayoutModel",
      "state": {}
     },
     "b6b81e489b0c48b6badc0e1b5830ad58": {
      "model_module": "@jupyter-widgets/controls",
      "model_module_version": "1.4.0",
      "model_name": "ButtonStyleModel",
      "state": {}
     },
     "b6d9cce7a8cb4e4d8b177fe25ffd7b8d": {
      "model_module": "@jupyter-widgets/controls",
      "model_module_version": "1.4.0",
      "model_name": "ButtonStyleModel",
      "state": {}
     },
     "b6fae894c0704ebd857efcb4c76395c7": {
      "model_module": "@jupyter-widgets/base",
      "model_module_version": "1.1.0",
      "model_name": "LayoutModel",
      "state": {}
     },
     "b7ababa2cd2543f780139e3926622bab": {
      "model_module": "@jupyter-widgets/controls",
      "model_module_version": "1.4.0",
      "model_name": "ButtonModel",
      "state": {
       "description": "Update",
       "layout": "IPY_MODEL_6ef28783851244578a4a2f890f890562",
       "style": "IPY_MODEL_92ffc09983d948bd888511839125f2e3"
      }
     },
     "b80846574c0a4025a02cce45f66c8001": {
      "model_module": "@jupyter-widgets/controls",
      "model_module_version": "1.4.0",
      "model_name": "VBoxModel",
      "state": {
       "children": [
        "IPY_MODEL_21669b6c038240cd97b043e1a8bff1c6",
        "IPY_MODEL_c5c601fe073343ada5dc94da82eff227",
        "IPY_MODEL_dfc91348f6b7476ebf70e0cfcb18ab6a",
        "IPY_MODEL_c3df8d7ca79f4165acc739ea80f966ee"
       ],
       "layout": "IPY_MODEL_79707c0164074631ab6404838c9210bc"
      }
     },
     "b8b067a9f145446d82c710420941f5a9": {
      "model_module": "@jupyter-widgets/controls",
      "model_module_version": "1.4.0",
      "model_name": "VBoxModel",
      "state": {
       "children": [
        "IPY_MODEL_21669b6c038240cd97b043e1a8bff1c6",
        "IPY_MODEL_c5c601fe073343ada5dc94da82eff227",
        "IPY_MODEL_dfc91348f6b7476ebf70e0cfcb18ab6a",
        "IPY_MODEL_c49a8ab0624b4767a81c7010a1e6675b"
       ],
       "layout": "IPY_MODEL_29e5f2a99a634548a518f939059b0283"
      }
     },
     "ba7ef0bf9dc042e1b50d023f7c6afe1f": {
      "model_module": "@jupyter-widgets/base",
      "model_module_version": "1.1.0",
      "model_name": "LayoutModel",
      "state": {}
     },
     "bb024a53ef024e4482267570ab000452": {
      "model_module": "@jupyter-widgets/base",
      "model_module_version": "1.1.0",
      "model_name": "LayoutModel",
      "state": {}
     },
     "bc1ed97182ca401bbfdf65913992e1e5": {
      "model_module": "@jupyter-widgets/controls",
      "model_module_version": "1.4.0",
      "model_name": "ButtonModel",
      "state": {
       "description": "Update",
       "layout": "IPY_MODEL_eed1adb0ed614d2082491218fc891387",
       "style": "IPY_MODEL_d4dcda6ec3614056b56fa6cceeaf1d6d"
      }
     },
     "bccfd9dd774449afbd969524b26ff708": {
      "model_module": "@jupyter-widgets/base",
      "model_module_version": "1.1.0",
      "model_name": "LayoutModel",
      "state": {}
     },
     "bcf913d43e724efd8832ffa1d54917bb": {
      "model_module": "@jupyter-widgets/controls",
      "model_module_version": "1.4.0",
      "model_name": "ButtonStyleModel",
      "state": {}
     },
     "bff6feab6f064fc09788348f1cd5f885": {
      "model_module": "@jupyter-widgets/controls",
      "model_module_version": "1.4.0",
      "model_name": "ButtonStyleModel",
      "state": {}
     },
     "c08ce4cfd55b4ff4bcc4f81a731efdb7": {
      "model_module": "@jupyter-widgets/base",
      "model_module_version": "1.1.0",
      "model_name": "LayoutModel",
      "state": {}
     },
     "c3df8d7ca79f4165acc739ea80f966ee": {
      "model_module": "@jupyter-widgets/controls",
      "model_module_version": "1.4.0",
      "model_name": "ButtonModel",
      "state": {
       "description": "Update",
       "layout": "IPY_MODEL_92a053df2bbc4faaa5d7a2d43f7b554c",
       "style": "IPY_MODEL_0072980a431f4254bcbc16037849e5be"
      }
     },
     "c47b8ee2349f492ca8257db5850692b8": {
      "model_module": "@jupyter-widgets/controls",
      "model_module_version": "1.4.0",
      "model_name": "VBoxModel",
      "state": {
       "children": [
        "IPY_MODEL_21669b6c038240cd97b043e1a8bff1c6",
        "IPY_MODEL_c5c601fe073343ada5dc94da82eff227",
        "IPY_MODEL_dfc91348f6b7476ebf70e0cfcb18ab6a",
        "IPY_MODEL_08082f37bb6f4ea8a0dfeab19974b30c"
       ],
       "layout": "IPY_MODEL_d13b681e88b1468f8b67422935090cfd"
      }
     },
     "c49a8ab0624b4767a81c7010a1e6675b": {
      "model_module": "@jupyter-widgets/controls",
      "model_module_version": "1.4.0",
      "model_name": "ButtonModel",
      "state": {
       "description": "Update",
       "layout": "IPY_MODEL_5189296808e741e6a27cf3d061b856d6",
       "style": "IPY_MODEL_1f23d9dce65c4d2491b16461e6da6162"
      }
     },
     "c5c601fe073343ada5dc94da82eff227": {
      "model_module": "@jupyter-widgets/controls",
      "model_module_version": "1.4.0",
      "model_name": "DropdownModel",
      "state": {
       "_options_labels": [
        "All",
        "Good",
        "Bad"
       ],
       "description": "Weather",
       "index": 2,
       "layout": "IPY_MODEL_9f9916759a044f6fa50901a4fd07b083",
       "style": "IPY_MODEL_0fe6ce5e2a164859bf3d17daf33028fc"
      }
     },
     "c60160b0057947fabfb1ea799a1b6dfb": {
      "model_module": "@jupyter-widgets/controls",
      "model_module_version": "1.4.0",
      "model_name": "ButtonModel",
      "state": {
       "description": "Update",
       "layout": "IPY_MODEL_19a6bf7900d2496fb6962af5460039d6",
       "style": "IPY_MODEL_1c19c37bbdec4ff885316dea9930864c"
      }
     },
     "c7d4f4d0087d402da3b4a98cc81353be": {
      "model_module": "@jupyter-widgets/controls",
      "model_module_version": "1.4.0",
      "model_name": "ButtonStyleModel",
      "state": {}
     },
     "c7f5e06e08c94b6ea7cc77af2b76c129": {
      "model_module": "@jupyter-widgets/controls",
      "model_module_version": "1.4.0",
      "model_name": "ButtonStyleModel",
      "state": {}
     },
     "c806d61780fb4b7189a862f62d0d3e4e": {
      "model_module": "@jupyter-widgets/controls",
      "model_module_version": "1.4.0",
      "model_name": "VBoxModel",
      "state": {
       "children": [
        "IPY_MODEL_e09d651e710349aa99856bb9087ba2b2",
        "IPY_MODEL_d4f9c8f205324c138ac5b8d335bbaaad",
        "IPY_MODEL_838df9e6f8b54b4a820974e37585fefc",
        "IPY_MODEL_120e5cd13fb847cc91207e9a202f61ef"
       ],
       "layout": "IPY_MODEL_059eff1d004c4f26a0d19f86de70ac09"
      }
     },
     "c8416686ce2345fe8a5ee6c3cc389c19": {
      "model_module": "@jupyter-widgets/controls",
      "model_module_version": "1.4.0",
      "model_name": "ButtonStyleModel",
      "state": {}
     },
     "c874f34301bc43a79151df9d6bc73e84": {
      "model_module": "@jupyter-widgets/base",
      "model_module_version": "1.1.0",
      "model_name": "LayoutModel",
      "state": {}
     },
     "c8aa4a1db9c54d1a9f237f4612e382ff": {
      "model_module": "@jupyter-widgets/controls",
      "model_module_version": "1.4.0",
      "model_name": "ButtonModel",
      "state": {
       "description": "Update",
       "layout": "IPY_MODEL_00011df67285425b80407c4efeb39e98",
       "style": "IPY_MODEL_f934a4ddd06944ccb4a77b51396c9320"
      }
     },
     "c934b1cd23a74ddd8bd100a3b3872d55": {
      "model_module": "@jupyter-widgets/base",
      "model_module_version": "1.1.0",
      "model_name": "LayoutModel",
      "state": {}
     },
     "c99284193b6a4b4dae64f67d0e84e9fa": {
      "model_module": "@jupyter-widgets/controls",
      "model_module_version": "1.4.0",
      "model_name": "VBoxModel",
      "state": {
       "children": [
        "IPY_MODEL_e09d651e710349aa99856bb9087ba2b2",
        "IPY_MODEL_d4f9c8f205324c138ac5b8d335bbaaad",
        "IPY_MODEL_838df9e6f8b54b4a820974e37585fefc",
        "IPY_MODEL_bc1ed97182ca401bbfdf65913992e1e5"
       ],
       "layout": "IPY_MODEL_887913bcd9b14695be739d0b0a0844bd"
      }
     },
     "c9a4efe35bb9454198fd0dd752cc9fb5": {
      "model_module": "@jupyter-widgets/controls",
      "model_module_version": "1.4.0",
      "model_name": "ButtonStyleModel",
      "state": {}
     },
     "ca5958af300342eda910af6271d25e0a": {
      "model_module": "@jupyter-widgets/base",
      "model_module_version": "1.1.0",
      "model_name": "LayoutModel",
      "state": {}
     },
     "cbf5ce55a11f457b804a8366c64c3fba": {
      "model_module": "@jupyter-widgets/controls",
      "model_module_version": "1.4.0",
      "model_name": "ButtonModel",
      "state": {
       "description": "Update",
       "layout": "IPY_MODEL_91454d1ab00846daa7f801eb3e4e4314",
       "style": "IPY_MODEL_3bdb215a242a4ea3984a9e46c5eef86c"
      }
     },
     "cc3784f30a874058a542bab5dfc8fec0": {
      "model_module": "@jupyter-widgets/controls",
      "model_module_version": "1.4.0",
      "model_name": "VBoxModel",
      "state": {
       "children": [
        "IPY_MODEL_7f039bd0a5fb4ed8a427bf45b8bc88f6",
        "IPY_MODEL_cd34adaf5a3c49d4947398e8802ac537",
        "IPY_MODEL_8292f5a71d3240dd9d6064667b546e90",
        "IPY_MODEL_7d4ac4f1531f4f8c957d87aa42e3474d"
       ],
       "layout": "IPY_MODEL_488dee5778ed41108106159ca7b4995c"
      }
     },
     "cd34adaf5a3c49d4947398e8802ac537": {
      "model_module": "@jupyter-widgets/controls",
      "model_module_version": "1.4.0",
      "model_name": "DropdownModel",
      "state": {
       "_options_labels": [
        "All",
        "Good",
        "Bad"
       ],
       "description": "Weather",
       "index": 0,
       "layout": "IPY_MODEL_1fb140b2e801430e9e90962a21912575",
       "style": "IPY_MODEL_559a7e2004a243aca663d0cabf046c50"
      }
     },
     "cd42d13b05844eaf9508116950b9aa8d": {
      "model_module": "@jupyter-widgets/controls",
      "model_module_version": "1.4.0",
      "model_name": "VBoxModel",
      "state": {
       "children": [
        "IPY_MODEL_21669b6c038240cd97b043e1a8bff1c6",
        "IPY_MODEL_c5c601fe073343ada5dc94da82eff227",
        "IPY_MODEL_dfc91348f6b7476ebf70e0cfcb18ab6a",
        "IPY_MODEL_b7ababa2cd2543f780139e3926622bab"
       ],
       "layout": "IPY_MODEL_42898a98877e483b890be4e7d652ef78"
      }
     },
     "cd88b482f0854712ba0daf74b9963c1d": {
      "model_module": "@jupyter-widgets/base",
      "model_module_version": "1.1.0",
      "model_name": "LayoutModel",
      "state": {}
     },
     "cd95996996e642f6b73bc590652bb95b": {
      "model_module": "@jupyter-widgets/controls",
      "model_module_version": "1.4.0",
      "model_name": "ButtonModel",
      "state": {
       "description": "Update",
       "layout": "IPY_MODEL_27cde16715b644c4870a1efe8cec6a7c",
       "style": "IPY_MODEL_2d868156e23d47ae9a130151eb10c3b2"
      }
     },
     "ce6b8eadd6184fbbb3ed8fc0090d2aa0": {
      "model_module": "@jupyter-widgets/controls",
      "model_module_version": "1.4.0",
      "model_name": "ButtonModel",
      "state": {
       "description": "Update",
       "layout": "IPY_MODEL_e7ab9e2cc75a45e9b74833760332b4e2",
       "style": "IPY_MODEL_b6d9cce7a8cb4e4d8b177fe25ffd7b8d"
      }
     },
     "d018d003b1f3488c8076d8d0a498b26a": {
      "model_module": "@jupyter-widgets/base",
      "model_module_version": "1.1.0",
      "model_name": "LayoutModel",
      "state": {}
     },
     "d0b63ecc8abf44bc957a8df72343e9c0": {
      "model_module": "@jupyter-widgets/controls",
      "model_module_version": "1.4.0",
      "model_name": "ButtonStyleModel",
      "state": {}
     },
     "d13b681e88b1468f8b67422935090cfd": {
      "model_module": "@jupyter-widgets/base",
      "model_module_version": "1.1.0",
      "model_name": "LayoutModel",
      "state": {}
     },
     "d25b4ba7b9e34657b03c46224338313a": {
      "model_module": "@jupyter-widgets/controls",
      "model_module_version": "1.4.0",
      "model_name": "VBoxModel",
      "state": {
       "children": [
        "IPY_MODEL_21669b6c038240cd97b043e1a8bff1c6",
        "IPY_MODEL_c5c601fe073343ada5dc94da82eff227",
        "IPY_MODEL_dfc91348f6b7476ebf70e0cfcb18ab6a",
        "IPY_MODEL_4698de00b4e842c69cdd86ddb6235ca7"
       ],
       "layout": "IPY_MODEL_93d3c24ac2cb44e3ab1b62df92a048ea"
      }
     },
     "d26fafb7d359425db5294f5aab3b9bc0": {
      "model_module": "@jupyter-widgets/base",
      "model_module_version": "1.1.0",
      "model_name": "LayoutModel",
      "state": {}
     },
     "d27c6935e93d4d8a9e782fe94b0c15f1": {
      "model_module": "@jupyter-widgets/controls",
      "model_module_version": "1.4.0",
      "model_name": "VBoxModel",
      "state": {
       "children": [
        "IPY_MODEL_e09d651e710349aa99856bb9087ba2b2",
        "IPY_MODEL_d4f9c8f205324c138ac5b8d335bbaaad",
        "IPY_MODEL_838df9e6f8b54b4a820974e37585fefc",
        "IPY_MODEL_a3bb8f21ea1f4506970c6255ba3f1848"
       ],
       "layout": "IPY_MODEL_42c2f2107cc14714b12f3b4c36e9b308"
      }
     },
     "d2bbfdf2487c4d498fce9b9de66e0088": {
      "model_module": "@jupyter-widgets/controls",
      "model_module_version": "1.4.0",
      "model_name": "VBoxModel",
      "state": {
       "children": [
        "IPY_MODEL_21669b6c038240cd97b043e1a8bff1c6",
        "IPY_MODEL_c5c601fe073343ada5dc94da82eff227",
        "IPY_MODEL_dfc91348f6b7476ebf70e0cfcb18ab6a",
        "IPY_MODEL_2cd0784e766a4376bb6e4859bb0d2102"
       ],
       "layout": "IPY_MODEL_7a1001b25ae3492eb937a3c20cbaddc3"
      }
     },
     "d336adf51b5742e68473de39a0959e65": {
      "model_module": "@jupyter-widgets/controls",
      "model_module_version": "1.4.0",
      "model_name": "VBoxModel",
      "state": {
       "children": [
        "IPY_MODEL_e09d651e710349aa99856bb9087ba2b2",
        "IPY_MODEL_d4f9c8f205324c138ac5b8d335bbaaad",
        "IPY_MODEL_838df9e6f8b54b4a820974e37585fefc",
        "IPY_MODEL_c8aa4a1db9c54d1a9f237f4612e382ff"
       ],
       "layout": "IPY_MODEL_0da10b7cc14a42059f03a105a2c057bd"
      }
     },
     "d4dcda6ec3614056b56fa6cceeaf1d6d": {
      "model_module": "@jupyter-widgets/controls",
      "model_module_version": "1.4.0",
      "model_name": "ButtonStyleModel",
      "state": {}
     },
     "d4f9c8f205324c138ac5b8d335bbaaad": {
      "model_module": "@jupyter-widgets/controls",
      "model_module_version": "1.4.0",
      "model_name": "DropdownModel",
      "state": {
       "_options_labels": [
        "All",
        "Good",
        "Bad"
       ],
       "description": "Weather",
       "index": 2,
       "layout": "IPY_MODEL_d018d003b1f3488c8076d8d0a498b26a",
       "style": "IPY_MODEL_45d0e235bb2a493394e6e37b9e32dd52"
      }
     },
     "d67cfca4d6b54f01ac93120e4cb257a5": {
      "model_module": "@jupyter-widgets/base",
      "model_module_version": "1.1.0",
      "model_name": "LayoutModel",
      "state": {}
     },
     "d70adfaed4414abbbbf8d65c5b0c6153": {
      "model_module": "@jupyter-widgets/controls",
      "model_module_version": "1.4.0",
      "model_name": "VBoxModel",
      "state": {
       "children": [
        "IPY_MODEL_21669b6c038240cd97b043e1a8bff1c6",
        "IPY_MODEL_c5c601fe073343ada5dc94da82eff227",
        "IPY_MODEL_dfc91348f6b7476ebf70e0cfcb18ab6a",
        "IPY_MODEL_ace2493da4334e2f8ab50182b7b318a1"
       ],
       "layout": "IPY_MODEL_6aa5d2092c6a42ca957a825eb87df298"
      }
     },
     "d7a74d6b79d645b2a8dd5baa6e7b6dd0": {
      "model_module": "@jupyter-widgets/base",
      "model_module_version": "1.1.0",
      "model_name": "LayoutModel",
      "state": {}
     },
     "d8a819005f494421916438987a80cd4c": {
      "model_module": "@jupyter-widgets/controls",
      "model_module_version": "1.4.0",
      "model_name": "ButtonModel",
      "state": {
       "description": "Update",
       "layout": "IPY_MODEL_3aed7f61a37c44a891c4673d20e50262",
       "style": "IPY_MODEL_b6b81e489b0c48b6badc0e1b5830ad58"
      }
     },
     "d96dc2227e304736a94c33b323369ac0": {
      "model_module": "@jupyter-widgets/base",
      "model_module_version": "1.1.0",
      "model_name": "LayoutModel",
      "state": {}
     },
     "d9d67c216318470583bfae4ebfeab2ca": {
      "model_module": "@jupyter-widgets/controls",
      "model_module_version": "1.4.0",
      "model_name": "ButtonModel",
      "state": {
       "description": "Update",
       "layout": "IPY_MODEL_a95b58373ed04efaa56b7fa0449a1684",
       "style": "IPY_MODEL_49630add53b742d5bae52299ab9d60c6"
      }
     },
     "dab9d2e616a44063982dc58fc0f9b477": {
      "model_module": "@jupyter-widgets/base",
      "model_module_version": "1.1.0",
      "model_name": "LayoutModel",
      "state": {}
     },
     "dd402c883ce94be3a30265e0bdeee756": {
      "model_module": "@jupyter-widgets/base",
      "model_module_version": "1.1.0",
      "model_name": "LayoutModel",
      "state": {}
     },
     "dd963f1110774da0b9ab97bd6bdbf0e2": {
      "model_module": "@jupyter-widgets/base",
      "model_module_version": "1.1.0",
      "model_name": "LayoutModel",
      "state": {}
     },
     "ddbd7a49f414442c9f3b0428d6676d61": {
      "model_module": "@jupyter-widgets/controls",
      "model_module_version": "1.4.0",
      "model_name": "VBoxModel",
      "state": {
       "children": [
        "IPY_MODEL_21669b6c038240cd97b043e1a8bff1c6",
        "IPY_MODEL_c5c601fe073343ada5dc94da82eff227",
        "IPY_MODEL_dfc91348f6b7476ebf70e0cfcb18ab6a",
        "IPY_MODEL_cbf5ce55a11f457b804a8366c64c3fba"
       ],
       "layout": "IPY_MODEL_6d7fdd1270854c5a9d948b05e4b94898"
      }
     },
     "dea1aab078fb4789ac3da0c42933ff65": {
      "model_module": "@jupyter-widgets/controls",
      "model_module_version": "1.4.0",
      "model_name": "VBoxModel",
      "state": {
       "children": [
        "IPY_MODEL_21669b6c038240cd97b043e1a8bff1c6",
        "IPY_MODEL_c5c601fe073343ada5dc94da82eff227",
        "IPY_MODEL_dfc91348f6b7476ebf70e0cfcb18ab6a",
        "IPY_MODEL_e8308a2876be4f55817d5b21b00ad225"
       ],
       "layout": "IPY_MODEL_46773ac95a394365b93426a12b9a1540"
      }
     },
     "deb73b68620748468c10b990e425daaa": {
      "model_module": "@jupyter-widgets/controls",
      "model_module_version": "1.4.0",
      "model_name": "VBoxModel",
      "state": {
       "children": [
        "IPY_MODEL_21669b6c038240cd97b043e1a8bff1c6",
        "IPY_MODEL_c5c601fe073343ada5dc94da82eff227",
        "IPY_MODEL_dfc91348f6b7476ebf70e0cfcb18ab6a",
        "IPY_MODEL_6158faadbdf74d8c8608922fe00b4eb7"
       ],
       "layout": "IPY_MODEL_751d3948945547b18b026699a6c69cbf"
      }
     },
     "df6890047e234b7597396603e9c19f7b": {
      "model_module": "@jupyter-widgets/controls",
      "model_module_version": "1.4.0",
      "model_name": "VBoxModel",
      "state": {
       "children": [
        "IPY_MODEL_21669b6c038240cd97b043e1a8bff1c6",
        "IPY_MODEL_c5c601fe073343ada5dc94da82eff227",
        "IPY_MODEL_dfc91348f6b7476ebf70e0cfcb18ab6a",
        "IPY_MODEL_7d1159a7e0634884830691c121599533"
       ],
       "layout": "IPY_MODEL_83abe0f8a9474e74a168de5be5175e0a"
      }
     },
     "dfc34dba89bf4a00a81be367b464fda6": {
      "model_module": "@jupyter-widgets/controls",
      "model_module_version": "1.4.0",
      "model_name": "ButtonStyleModel",
      "state": {}
     },
     "dfc91348f6b7476ebf70e0cfcb18ab6a": {
      "model_module": "@jupyter-widgets/controls",
      "model_module_version": "1.4.0",
      "model_name": "DropdownModel",
      "state": {
       "_options_labels": [
        "All",
        "Light",
        "Dark"
       ],
       "description": "Daylight",
       "index": 2,
       "layout": "IPY_MODEL_473c1b6c23764820b457a640d4c19fd9",
       "style": "IPY_MODEL_fc60559064884e20b5b2bda5193b5e73"
      }
     },
     "e03e8db85e734340b58b5aa81af9cb62": {
      "model_module": "@jupyter-widgets/base",
      "model_module_version": "1.1.0",
      "model_name": "LayoutModel",
      "state": {}
     },
     "e04d544b4dec4139b79dfd486148d90a": {
      "model_module": "@jupyter-widgets/controls",
      "model_module_version": "1.4.0",
      "model_name": "ButtonModel",
      "state": {
       "description": "Update",
       "layout": "IPY_MODEL_f7c1fbf3a26f4fc58979036cbde5b1d8",
       "style": "IPY_MODEL_50637a03876a4c04b312f99ec9822f35"
      }
     },
     "e05bdc74a7eb442cada0c9e07963ddbe": {
      "model_module": "@jupyter-widgets/base",
      "model_module_version": "1.1.0",
      "model_name": "LayoutModel",
      "state": {}
     },
     "e09d651e710349aa99856bb9087ba2b2": {
      "model_module": "@jupyter-widgets/controls",
      "model_module_version": "1.4.0",
      "model_name": "DropdownModel",
      "state": {
       "_options_labels": [
        "All",
        "Weekday",
        "Weekend"
       ],
       "description": "Time of week",
       "index": 0,
       "layout": "IPY_MODEL_17a26195f7b24b7c87354a5b14d5629c",
       "style": "IPY_MODEL_831d7c69d14a4b81a8fd08b3f213e7d4"
      }
     },
     "e116e02c799c42d6a7b9e556f0d368e9": {
      "model_module": "@jupyter-widgets/controls",
      "model_module_version": "1.4.0",
      "model_name": "VBoxModel",
      "state": {
       "children": [
        "IPY_MODEL_21669b6c038240cd97b043e1a8bff1c6",
        "IPY_MODEL_c5c601fe073343ada5dc94da82eff227",
        "IPY_MODEL_dfc91348f6b7476ebf70e0cfcb18ab6a",
        "IPY_MODEL_b5b03a1332e942639d68f3e34e1cf1d8"
       ],
       "layout": "IPY_MODEL_16a01f1c0d62470490c0c8567d8fa4db"
      }
     },
     "e26a50072a1e41f59071f3f82b97822e": {
      "model_module": "@jupyter-widgets/controls",
      "model_module_version": "1.4.0",
      "model_name": "ButtonModel",
      "state": {
       "description": "Update",
       "layout": "IPY_MODEL_6414fbbb48ad422a82381c93aec87d57",
       "style": "IPY_MODEL_94031d70c91e4708a0c798efbfe65e08"
      }
     },
     "e3134939d471455e897ecb489eca108f": {
      "model_module": "@jupyter-widgets/base",
      "model_module_version": "1.1.0",
      "model_name": "LayoutModel",
      "state": {}
     },
     "e3196f0e93eb4a1d98d192f70dc0f07f": {
      "model_module": "@jupyter-widgets/base",
      "model_module_version": "1.1.0",
      "model_name": "LayoutModel",
      "state": {}
     },
     "e5690cb994cc4e9399bf05822141dc72": {
      "model_module": "@jupyter-widgets/controls",
      "model_module_version": "1.4.0",
      "model_name": "VBoxModel",
      "state": {
       "children": [
        "IPY_MODEL_21669b6c038240cd97b043e1a8bff1c6",
        "IPY_MODEL_c5c601fe073343ada5dc94da82eff227",
        "IPY_MODEL_dfc91348f6b7476ebf70e0cfcb18ab6a",
        "IPY_MODEL_e04d544b4dec4139b79dfd486148d90a"
       ],
       "layout": "IPY_MODEL_0eb7eaace06d4b90a24fc893d11b7d9d"
      }
     },
     "e61ccb2755e145e0bf7fb5874d3aed8e": {
      "model_module": "@jupyter-widgets/base",
      "model_module_version": "1.1.0",
      "model_name": "LayoutModel",
      "state": {}
     },
     "e6c640896ef74bb5a2e8487519983523": {
      "model_module": "@jupyter-widgets/controls",
      "model_module_version": "1.4.0",
      "model_name": "ButtonStyleModel",
      "state": {}
     },
     "e7ab9e2cc75a45e9b74833760332b4e2": {
      "model_module": "@jupyter-widgets/base",
      "model_module_version": "1.1.0",
      "model_name": "LayoutModel",
      "state": {}
     },
     "e7b24a82cf484b69bd435cf841177fee": {
      "model_module": "@jupyter-widgets/controls",
      "model_module_version": "1.4.0",
      "model_name": "VBoxModel",
      "state": {
       "children": [
        "IPY_MODEL_21669b6c038240cd97b043e1a8bff1c6",
        "IPY_MODEL_c5c601fe073343ada5dc94da82eff227",
        "IPY_MODEL_dfc91348f6b7476ebf70e0cfcb18ab6a",
        "IPY_MODEL_7f994f4bbc564039875a2a8f3ba720d0"
       ],
       "layout": "IPY_MODEL_b245eb4f6e1f410988baddfe3f26ec6a"
      }
     },
     "e809e401858b429c9aedfdce943e4537": {
      "model_module": "@jupyter-widgets/base",
      "model_module_version": "1.1.0",
      "model_name": "LayoutModel",
      "state": {}
     },
     "e8308a2876be4f55817d5b21b00ad225": {
      "model_module": "@jupyter-widgets/controls",
      "model_module_version": "1.4.0",
      "model_name": "ButtonModel",
      "state": {
       "description": "Update",
       "layout": "IPY_MODEL_bb024a53ef024e4482267570ab000452",
       "style": "IPY_MODEL_c8416686ce2345fe8a5ee6c3cc389c19"
      }
     },
     "ecd53730d9034849a72b43ac9ef32c50": {
      "model_module": "@jupyter-widgets/base",
      "model_module_version": "1.1.0",
      "model_name": "LayoutModel",
      "state": {}
     },
     "ed5302688bfe4164941ddb3662546c05": {
      "model_module": "@jupyter-widgets/controls",
      "model_module_version": "1.4.0",
      "model_name": "VBoxModel",
      "state": {
       "children": [
        "IPY_MODEL_21669b6c038240cd97b043e1a8bff1c6",
        "IPY_MODEL_c5c601fe073343ada5dc94da82eff227",
        "IPY_MODEL_dfc91348f6b7476ebf70e0cfcb18ab6a",
        "IPY_MODEL_8f43d9d9735e4037a0492382a9a83ce7"
       ],
       "layout": "IPY_MODEL_469fada15c7b4d6daa8d3926a3bdba71"
      }
     },
     "ed60587ac19241e492b145eb46a3b9f9": {
      "model_module": "@jupyter-widgets/controls",
      "model_module_version": "1.4.0",
      "model_name": "VBoxModel",
      "state": {
       "children": [
        "IPY_MODEL_21669b6c038240cd97b043e1a8bff1c6",
        "IPY_MODEL_c5c601fe073343ada5dc94da82eff227",
        "IPY_MODEL_dfc91348f6b7476ebf70e0cfcb18ab6a",
        "IPY_MODEL_8ebf3ba4049143778d38aa4eb81cd18b"
       ],
       "layout": "IPY_MODEL_a868989e0655455aa80b109b47231122"
      }
     },
     "ee95fb28be4f4b3387fcc140c3471136": {
      "model_module": "@jupyter-widgets/controls",
      "model_module_version": "1.4.0",
      "model_name": "VBoxModel",
      "state": {
       "children": [
        "IPY_MODEL_21669b6c038240cd97b043e1a8bff1c6",
        "IPY_MODEL_c5c601fe073343ada5dc94da82eff227",
        "IPY_MODEL_dfc91348f6b7476ebf70e0cfcb18ab6a",
        "IPY_MODEL_0aa50c21196a4ba3b4fa23595fab3f63"
       ],
       "layout": "IPY_MODEL_48b24acd7b9b4348a5f399e8b2f2c721"
      }
     },
     "eead835765244681915b5bab4859f6fa": {
      "model_module": "@jupyter-widgets/controls",
      "model_module_version": "1.4.0",
      "model_name": "ButtonStyleModel",
      "state": {}
     },
     "eed1adb0ed614d2082491218fc891387": {
      "model_module": "@jupyter-widgets/base",
      "model_module_version": "1.1.0",
      "model_name": "LayoutModel",
      "state": {}
     },
     "f0a1f1bf8fbf4afea843c2ce678efcb5": {
      "model_module": "@jupyter-widgets/controls",
      "model_module_version": "1.4.0",
      "model_name": "ButtonModel",
      "state": {
       "description": "Update",
       "layout": "IPY_MODEL_01314bf8b3de41a08d5002c28c5d2c9b",
       "style": "IPY_MODEL_1c3fe338b4fe42109127d2dc7001101a"
      }
     },
     "f0b71a8eafdd447182004527d8706627": {
      "model_module": "@jupyter-widgets/controls",
      "model_module_version": "1.4.0",
      "model_name": "VBoxModel",
      "state": {
       "children": [
        "IPY_MODEL_21669b6c038240cd97b043e1a8bff1c6",
        "IPY_MODEL_c5c601fe073343ada5dc94da82eff227",
        "IPY_MODEL_dfc91348f6b7476ebf70e0cfcb18ab6a",
        "IPY_MODEL_1ecd33a10e2c4a81b012475b331aa675"
       ],
       "layout": "IPY_MODEL_28b1f478ed2c4a889931caec6a0f36cf"
      }
     },
     "f1932d18de3341918425278f0075f103": {
      "model_module": "@jupyter-widgets/controls",
      "model_module_version": "1.4.0",
      "model_name": "ButtonStyleModel",
      "state": {}
     },
     "f3827c795be445208e943217ce483da5": {
      "model_module": "@jupyter-widgets/controls",
      "model_module_version": "1.4.0",
      "model_name": "ButtonModel",
      "state": {
       "description": "Update",
       "layout": "IPY_MODEL_1b0d1c3c3b6540cdbee0be3ce2a8490e",
       "style": "IPY_MODEL_2ef9818ec4414ca290f02de4d4b3a04d"
      }
     },
     "f4ec2040e85b496b97973e8fc87d02c1": {
      "model_module": "@jupyter-widgets/controls",
      "model_module_version": "1.4.0",
      "model_name": "ButtonStyleModel",
      "state": {}
     },
     "f5dbbd7dad1b4a65bddb6f6bd9c397bb": {
      "model_module": "@jupyter-widgets/controls",
      "model_module_version": "1.4.0",
      "model_name": "VBoxModel",
      "state": {
       "children": [
        "IPY_MODEL_21669b6c038240cd97b043e1a8bff1c6",
        "IPY_MODEL_c5c601fe073343ada5dc94da82eff227",
        "IPY_MODEL_dfc91348f6b7476ebf70e0cfcb18ab6a",
        "IPY_MODEL_8ea22d2c29f84249935142d51d9df4bc"
       ],
       "layout": "IPY_MODEL_e05bdc74a7eb442cada0c9e07963ddbe"
      }
     },
     "f7c1fbf3a26f4fc58979036cbde5b1d8": {
      "model_module": "@jupyter-widgets/base",
      "model_module_version": "1.1.0",
      "model_name": "LayoutModel",
      "state": {}
     },
     "f7cca72f2af7481c8715435448c8ae1e": {
      "model_module": "@jupyter-widgets/base",
      "model_module_version": "1.1.0",
      "model_name": "LayoutModel",
      "state": {}
     },
     "f88e0d467c06467eb4180a8081d2ef91": {
      "model_module": "@jupyter-widgets/controls",
      "model_module_version": "1.4.0",
      "model_name": "VBoxModel",
      "state": {
       "children": [
        "IPY_MODEL_e09d651e710349aa99856bb9087ba2b2",
        "IPY_MODEL_d4f9c8f205324c138ac5b8d335bbaaad",
        "IPY_MODEL_838df9e6f8b54b4a820974e37585fefc",
        "IPY_MODEL_0b110a0fc96a475caec451423716c5e9"
       ],
       "layout": "IPY_MODEL_543bd21343924257bf7a8a601e3a5b7e"
      }
     },
     "f934a4ddd06944ccb4a77b51396c9320": {
      "model_module": "@jupyter-widgets/controls",
      "model_module_version": "1.4.0",
      "model_name": "ButtonStyleModel",
      "state": {}
     },
     "fc60559064884e20b5b2bda5193b5e73": {
      "model_module": "@jupyter-widgets/controls",
      "model_module_version": "1.4.0",
      "model_name": "DescriptionStyleModel",
      "state": {
       "description_width": ""
      }
     },
     "fc786cee36674aae9634b936c4eab7e6": {
      "model_module": "@jupyter-widgets/controls",
      "model_module_version": "1.4.0",
      "model_name": "DropdownModel",
      "state": {
       "_options_labels": [
        "All",
        "Light",
        "Dark"
       ],
       "description": "Daylight",
       "index": 0,
       "layout": "IPY_MODEL_7df9cf20f63e4dc2b8b23bcf2fbc8482",
       "style": "IPY_MODEL_2d1e4e50b0d84902b28ae4288a330e9c"
      }
     },
     "fd43c8e7efca4226b05d0eb1db2ac61a": {
      "model_module": "@jupyter-widgets/controls",
      "model_module_version": "1.4.0",
      "model_name": "ButtonStyleModel",
      "state": {}
     },
     "fdb521917fb84733b2b0c59ece43451b": {
      "model_module": "@jupyter-widgets/controls",
      "model_module_version": "1.4.0",
      "model_name": "ButtonModel",
      "state": {
       "description": "Update",
       "layout": "IPY_MODEL_93eb841f739749cca6a61969184e24ab",
       "style": "IPY_MODEL_c7f5e06e08c94b6ea7cc77af2b76c129"
      }
     },
     "fe84dee5d02642b793faf8a9b449b840": {
      "model_module": "@jupyter-widgets/controls",
      "model_module_version": "1.4.0",
      "model_name": "ButtonStyleModel",
      "state": {}
     },
     "feb6a720a84d4edcaf5633777020d0b5": {
      "model_module": "@jupyter-widgets/controls",
      "model_module_version": "1.4.0",
      "model_name": "DescriptionStyleModel",
      "state": {
       "description_width": ""
      }
     },
     "ff3e364c9ee14dc28723d13595b1ef22": {
      "model_module": "@jupyter-widgets/controls",
      "model_module_version": "1.4.0",
      "model_name": "VBoxModel",
      "state": {
       "children": [
        "IPY_MODEL_21669b6c038240cd97b043e1a8bff1c6",
        "IPY_MODEL_c5c601fe073343ada5dc94da82eff227",
        "IPY_MODEL_dfc91348f6b7476ebf70e0cfcb18ab6a",
        "IPY_MODEL_618b69302b7a4263b855baa86d2c53a0"
       ],
       "layout": "IPY_MODEL_4d6d065931294a288f1d239e4f9bcab3"
      }
     },
     "ff8bf84fd1154b35aca3553ede26b35c": {
      "model_module": "@jupyter-widgets/controls",
      "model_module_version": "1.4.0",
      "model_name": "ButtonStyleModel",
      "state": {}
     }
    },
    "version_major": 2,
    "version_minor": 0
   }
  }
 },
 "nbformat": 4,
 "nbformat_minor": 2
}
