{
 "cells": [
  {
   "cell_type": "code",
   "execution_count": 1,
   "metadata": {},
   "outputs": [],
   "source": [
    "import pandas as pd\n",
    "from datetime import datetime"
   ]
  },
  {
   "cell_type": "code",
   "execution_count": 13,
   "metadata": {
    "scrolled": false
   },
   "outputs": [],
   "source": [
    "url = 'https://api.tfl.gov.uk/BikePoint?app_id=##&app_key=##' ## add details\n",
    "df = pd.read_json(url)"
   ]
  },
  {
   "cell_type": "code",
   "execution_count": 3,
   "metadata": {},
   "outputs": [],
   "source": [
    "addit = pd.DataFrame()\n",
    "\n",
    "for i in range(len(df.index)):\n",
    "    pp = pd.DataFrame.from_dict(df['additionalProperties'][i])\n",
    "    pp2 = pp[['key','value']]\n",
    "    pp3 = pp.pivot_table(values='value',columns='key',aggfunc='first')\n",
    "    addit = pd.concat([addit,pp3])"
   ]
  },
  {
   "cell_type": "code",
   "execution_count": 4,
   "metadata": {},
   "outputs": [],
   "source": [
    "addit_cols = list(addit)\n",
    "for i in addit_cols:\n",
    "    df[i] = list(addit[i])"
   ]
  },
  {
   "cell_type": "code",
   "execution_count": 5,
   "metadata": {},
   "outputs": [],
   "source": [
    "def last(string):\n",
    "    x = string[11:]\n",
    "    return x\n",
    "\n",
    "df['BPID'] = df['id'].astype(str)\n",
    "df['BPID'] = df['BPID'].apply(last)\n",
    "df['BPID'] = df['BPID'].astype(int)\n",
    "df['NbDocks'] = df['NbDocks'].astype(int)"
   ]
  },
  {
   "cell_type": "code",
   "execution_count": 6,
   "metadata": {},
   "outputs": [],
   "source": [
    "dates = list(df['InstallDate'])\n",
    "nudates = []\n",
    "for i in dates:\n",
    "    try:\n",
    "        x = int(i)\n",
    "        x = x / 1000\n",
    "        x = datetime.utcfromtimestamp(x).strftime('%Y-%m-%d %H:%M:%S')\n",
    "        nudates.append(x)\n",
    "    except:\n",
    "        nudates.append(None)        "
   ]
  },
  {
   "cell_type": "code",
   "execution_count": 7,
   "metadata": {},
   "outputs": [],
   "source": [
    "df['Installed'] = nudates"
   ]
  },
  {
   "cell_type": "code",
   "execution_count": 8,
   "metadata": {},
   "outputs": [],
   "source": [
    "bp = df[['BPID','lat','lon','NbDocks','Installed','commonName']]"
   ]
  },
  {
   "cell_type": "code",
   "execution_count": 9,
   "metadata": {},
   "outputs": [],
   "source": [
    "bp.to_csv('../data/bike-points.csv', index=False)"
   ]
  }
 ],
 "metadata": {
  "kernelspec": {
   "display_name": "Python 3",
   "language": "python",
   "name": "python3"
  },
  "language_info": {
   "codemirror_mode": {
    "name": "ipython",
    "version": 3
   },
   "file_extension": ".py",
   "mimetype": "text/x-python",
   "name": "python",
   "nbconvert_exporter": "python",
   "pygments_lexer": "ipython3",
   "version": "3.6.6"
  }
 },
 "nbformat": 4,
 "nbformat_minor": 2
}
