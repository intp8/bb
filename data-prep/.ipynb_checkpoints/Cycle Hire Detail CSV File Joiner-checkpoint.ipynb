{
 "cells": [
  {
   "cell_type": "code",
   "execution_count": 1,
   "metadata": {},
   "outputs": [],
   "source": [
    "import pandas as pd\n",
    "import glob"
   ]
  },
  {
   "cell_type": "code",
   "execution_count": 2,
   "metadata": {},
   "outputs": [],
   "source": [
    "csvs=[]\n",
    "for files in glob.glob('../raw-data/cycle-hire-detail/*.csv'):\n",
    "    csvs.append(files)"
   ]
  },
  {
   "cell_type": "code",
   "execution_count": 3,
   "metadata": {},
   "outputs": [],
   "source": [
    "cols = ['Rental Id','Duration','Bike Id','End Date','End Station Id','End Station Name','Start Date','Start Station Id','Start Station Name']\n",
    "list_ = []\n",
    "for file_ in csvs:\n",
    "    df = pd.read_csv(file_,index_col=None, header=0)\n",
    "    df.columns = ['Rental Id','Duration','Bike Id','End Date','End Station Id','End Station Name','Start Date','Start Station Id','Start Station Name']\n",
    "    list_.append(df)\n",
    "df = pd.concat(list_, ignore_index=True)"
   ]
  },
  {
   "cell_type": "code",
   "execution_count": 4,
   "metadata": {},
   "outputs": [],
   "source": [
    "df.to_csv('../raw-data/detail-2017-2018.csv', index=False)"
   ]
  }
 ],
 "metadata": {
  "kernelspec": {
   "display_name": "Python 3",
   "language": "python",
   "name": "python3"
  },
  "language_info": {
   "codemirror_mode": {
    "name": "ipython",
    "version": 3
   },
   "file_extension": ".py",
   "mimetype": "text/x-python",
   "name": "python",
   "nbconvert_exporter": "python",
   "pygments_lexer": "ipython3",
   "version": "3.6.6"
  }
 },
 "nbformat": 4,
 "nbformat_minor": 2
}
