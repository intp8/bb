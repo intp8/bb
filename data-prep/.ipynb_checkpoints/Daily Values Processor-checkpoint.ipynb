{
 "cells": [
  {
   "cell_type": "code",
   "execution_count": 52,
   "metadata": {},
   "outputs": [],
   "source": [
    "import pandas as pd\n",
    "import numpy as np"
   ]
  },
  {
   "cell_type": "markdown",
   "metadata": {},
   "source": [
    "## Import and tidy up Weather data"
   ]
  },
  {
   "cell_type": "code",
   "execution_count": 53,
   "metadata": {},
   "outputs": [],
   "source": [
    "wr = pd.read_csv(\"../raw-data/weather_history.csv\", low_memory=False) "
   ]
  },
  {
   "cell_type": "code",
   "execution_count": 54,
   "metadata": {},
   "outputs": [],
   "source": [
    "wr = wr.dropna(how='all', axis=1)\n",
    "wr = wr.drop('WW', axis=1)\n",
    "wr = wr.rename(columns={ wr.columns[0]: \"Time\" })"
   ]
  },
  {
   "cell_type": "code",
   "execution_count": 55,
   "metadata": {},
   "outputs": [],
   "source": [
    "wr = wr.rename(columns={'T':'Temp','U':'Rel_Humidity','DD':'Wind_Dir',\n",
    "                        'Tn':'Min_Temp','Tx':'Max_Temp','Td':'Dew_Temp',\n",
    "                        'RRR':'Rain','tR':'Rain_Time','Tg':'Night_Soil_Temp'})\n",
    "wr = wr.drop(['Dew_Temp','Night_Soil_Temp','Min_Temp','Max_Temp','Wind_Dir'], axis=1)"
   ]
  },
  {
   "cell_type": "code",
   "execution_count": 56,
   "metadata": {},
   "outputs": [],
   "source": [
    "wr['Rain'].replace('No precipitation',0, inplace=True)\n",
    "wr['Rain'] = pd.to_numeric(wr['Rain'])\n",
    "wr['Hourly_Rain'] = wr['Rain'] / wr['Rain_Time']\n",
    "wr = wr.drop(['Rain','Rain_Time'], axis = 1) # unclear why Rain_Time is sometimes 6 and sometimes 12\n",
    "wr['Time'] = pd.to_datetime(wr['Time'], dayfirst=True)"
   ]
  },
  {
   "cell_type": "code",
   "execution_count": 57,
   "metadata": {},
   "outputs": [],
   "source": [
    "wr['Hour'] = wr['Time'].dt.hour\n",
    "wr['Date'] = wr['Time'].dt.date"
   ]
  },
  {
   "cell_type": "markdown",
   "metadata": {},
   "source": [
    "## Aggregate weather by day"
   ]
  },
  {
   "cell_type": "code",
   "execution_count": 58,
   "metadata": {},
   "outputs": [],
   "source": [
    "wrd = wr.groupby('Date').mean().reset_index()\n",
    "wrd = wrd.drop('Hour', axis=1)\n",
    "wrd['Date'] = pd.to_datetime(wrd['Date'])\n",
    "wrd['Date'] = wrd['Date'].dt.date"
   ]
  },
  {
   "cell_type": "markdown",
   "metadata": {},
   "source": [
    "## Import Daily Cycle Hire data"
   ]
  },
  {
   "cell_type": "code",
   "execution_count": 71,
   "metadata": {},
   "outputs": [],
   "source": [
    "dh = pd.read_csv(\"../raw-data/daily-hires.csv\")\n",
    "dh['Date'] = pd.to_datetime(dh['Date'], dayfirst=True).dt.date\n",
    "dh['Hires']=dh['Hires'].astype(int)"
   ]
  },
  {
   "cell_type": "markdown",
   "metadata": {},
   "source": [
    "### Import strike data"
   ]
  },
  {
   "cell_type": "code",
   "execution_count": 72,
   "metadata": {},
   "outputs": [],
   "source": [
    "strikes = pd.read_csv('../raw-data/tube-strikes.csv')\n",
    "strikes['Strike_Evening'] = pd.to_datetime(strikes['Strike_Evening'], dayfirst=True)\n",
    "strikes['Strike_Daytime'] = pd.to_datetime(strikes['Strike_Daytime'], dayfirst=True)"
   ]
  },
  {
   "cell_type": "markdown",
   "metadata": {},
   "source": [
    "### Import bank holidays"
   ]
  },
  {
   "cell_type": "code",
   "execution_count": 89,
   "metadata": {},
   "outputs": [
    {
     "data": {
      "text/html": [
       "<div>\n",
       "<style scoped>\n",
       "    .dataframe tbody tr th:only-of-type {\n",
       "        vertical-align: middle;\n",
       "    }\n",
       "\n",
       "    .dataframe tbody tr th {\n",
       "        vertical-align: top;\n",
       "    }\n",
       "\n",
       "    .dataframe thead th {\n",
       "        text-align: right;\n",
       "    }\n",
       "</style>\n",
       "<table border=\"1\" class=\"dataframe\">\n",
       "  <thead>\n",
       "    <tr style=\"text-align: right;\">\n",
       "      <th></th>\n",
       "      <th>Date</th>\n",
       "    </tr>\n",
       "  </thead>\n",
       "  <tbody>\n",
       "    <tr>\n",
       "      <th>0</th>\n",
       "      <td>2010-01-01</td>\n",
       "    </tr>\n",
       "    <tr>\n",
       "      <th>1</th>\n",
       "      <td>2010-04-02</td>\n",
       "    </tr>\n",
       "    <tr>\n",
       "      <th>2</th>\n",
       "      <td>2010-04-05</td>\n",
       "    </tr>\n",
       "    <tr>\n",
       "      <th>3</th>\n",
       "      <td>2010-05-03</td>\n",
       "    </tr>\n",
       "    <tr>\n",
       "      <th>4</th>\n",
       "      <td>2010-05-31</td>\n",
       "    </tr>\n",
       "    <tr>\n",
       "      <th>5</th>\n",
       "      <td>2010-08-30</td>\n",
       "    </tr>\n",
       "    <tr>\n",
       "      <th>6</th>\n",
       "      <td>2010-12-27</td>\n",
       "    </tr>\n",
       "    <tr>\n",
       "      <th>7</th>\n",
       "      <td>2010-12-28</td>\n",
       "    </tr>\n",
       "    <tr>\n",
       "      <th>8</th>\n",
       "      <td>2011-01-03</td>\n",
       "    </tr>\n",
       "    <tr>\n",
       "      <th>9</th>\n",
       "      <td>2011-04-22</td>\n",
       "    </tr>\n",
       "    <tr>\n",
       "      <th>10</th>\n",
       "      <td>2011-04-25</td>\n",
       "    </tr>\n",
       "    <tr>\n",
       "      <th>11</th>\n",
       "      <td>2011-04-29</td>\n",
       "    </tr>\n",
       "    <tr>\n",
       "      <th>12</th>\n",
       "      <td>2011-05-02</td>\n",
       "    </tr>\n",
       "    <tr>\n",
       "      <th>13</th>\n",
       "      <td>2011-05-30</td>\n",
       "    </tr>\n",
       "    <tr>\n",
       "      <th>14</th>\n",
       "      <td>2011-08-29</td>\n",
       "    </tr>\n",
       "    <tr>\n",
       "      <th>15</th>\n",
       "      <td>2011-12-26</td>\n",
       "    </tr>\n",
       "    <tr>\n",
       "      <th>16</th>\n",
       "      <td>2011-12-27</td>\n",
       "    </tr>\n",
       "    <tr>\n",
       "      <th>17</th>\n",
       "      <td>2012-01-02</td>\n",
       "    </tr>\n",
       "    <tr>\n",
       "      <th>18</th>\n",
       "      <td>2012-04-06</td>\n",
       "    </tr>\n",
       "    <tr>\n",
       "      <th>19</th>\n",
       "      <td>2012-04-09</td>\n",
       "    </tr>\n",
       "    <tr>\n",
       "      <th>20</th>\n",
       "      <td>2012-05-07</td>\n",
       "    </tr>\n",
       "    <tr>\n",
       "      <th>21</th>\n",
       "      <td>2012-06-04</td>\n",
       "    </tr>\n",
       "    <tr>\n",
       "      <th>22</th>\n",
       "      <td>2012-06-05</td>\n",
       "    </tr>\n",
       "    <tr>\n",
       "      <th>23</th>\n",
       "      <td>2012-08-27</td>\n",
       "    </tr>\n",
       "    <tr>\n",
       "      <th>24</th>\n",
       "      <td>2012-12-25</td>\n",
       "    </tr>\n",
       "    <tr>\n",
       "      <th>25</th>\n",
       "      <td>2012-12-26</td>\n",
       "    </tr>\n",
       "    <tr>\n",
       "      <th>26</th>\n",
       "      <td>2013-01-01</td>\n",
       "    </tr>\n",
       "    <tr>\n",
       "      <th>27</th>\n",
       "      <td>2013-03-29</td>\n",
       "    </tr>\n",
       "    <tr>\n",
       "      <th>28</th>\n",
       "      <td>2013-04-01</td>\n",
       "    </tr>\n",
       "    <tr>\n",
       "      <th>29</th>\n",
       "      <td>2013-05-06</td>\n",
       "    </tr>\n",
       "    <tr>\n",
       "      <th>...</th>\n",
       "      <td>...</td>\n",
       "    </tr>\n",
       "    <tr>\n",
       "      <th>780</th>\n",
       "      <td>2007-04-11</td>\n",
       "    </tr>\n",
       "    <tr>\n",
       "      <th>781</th>\n",
       "      <td>2007-05-02</td>\n",
       "    </tr>\n",
       "    <tr>\n",
       "      <th>782</th>\n",
       "      <td>2007-05-30</td>\n",
       "    </tr>\n",
       "    <tr>\n",
       "      <th>783</th>\n",
       "      <td>2007-08-29</td>\n",
       "    </tr>\n",
       "    <tr>\n",
       "      <th>784</th>\n",
       "      <td>2007-12-26</td>\n",
       "    </tr>\n",
       "    <tr>\n",
       "      <th>785</th>\n",
       "      <td>2007-12-27</td>\n",
       "    </tr>\n",
       "    <tr>\n",
       "      <th>786</th>\n",
       "      <td>2008-01-02</td>\n",
       "    </tr>\n",
       "    <tr>\n",
       "      <th>787</th>\n",
       "      <td>2008-03-30</td>\n",
       "    </tr>\n",
       "    <tr>\n",
       "      <th>788</th>\n",
       "      <td>2008-04-02</td>\n",
       "    </tr>\n",
       "    <tr>\n",
       "      <th>789</th>\n",
       "      <td>2008-05-07</td>\n",
       "    </tr>\n",
       "    <tr>\n",
       "      <th>790</th>\n",
       "      <td>2008-05-28</td>\n",
       "    </tr>\n",
       "    <tr>\n",
       "      <th>791</th>\n",
       "      <td>2008-08-27</td>\n",
       "    </tr>\n",
       "    <tr>\n",
       "      <th>792</th>\n",
       "      <td>2008-12-25</td>\n",
       "    </tr>\n",
       "    <tr>\n",
       "      <th>793</th>\n",
       "      <td>2008-12-26</td>\n",
       "    </tr>\n",
       "    <tr>\n",
       "      <th>794</th>\n",
       "      <td>2009-01-01</td>\n",
       "    </tr>\n",
       "    <tr>\n",
       "      <th>795</th>\n",
       "      <td>2009-04-19</td>\n",
       "    </tr>\n",
       "    <tr>\n",
       "      <th>796</th>\n",
       "      <td>2009-04-22</td>\n",
       "    </tr>\n",
       "    <tr>\n",
       "      <th>797</th>\n",
       "      <td>2009-05-06</td>\n",
       "    </tr>\n",
       "    <tr>\n",
       "      <th>798</th>\n",
       "      <td>2009-05-27</td>\n",
       "    </tr>\n",
       "    <tr>\n",
       "      <th>799</th>\n",
       "      <td>2009-08-26</td>\n",
       "    </tr>\n",
       "    <tr>\n",
       "      <th>800</th>\n",
       "      <td>2009-12-25</td>\n",
       "    </tr>\n",
       "    <tr>\n",
       "      <th>801</th>\n",
       "      <td>2009-12-26</td>\n",
       "    </tr>\n",
       "    <tr>\n",
       "      <th>802</th>\n",
       "      <td>2010-01-01</td>\n",
       "    </tr>\n",
       "    <tr>\n",
       "      <th>803</th>\n",
       "      <td>2010-04-04</td>\n",
       "    </tr>\n",
       "    <tr>\n",
       "      <th>804</th>\n",
       "      <td>2010-04-07</td>\n",
       "    </tr>\n",
       "    <tr>\n",
       "      <th>805</th>\n",
       "      <td>2010-05-05</td>\n",
       "    </tr>\n",
       "    <tr>\n",
       "      <th>806</th>\n",
       "      <td>2010-05-26</td>\n",
       "    </tr>\n",
       "    <tr>\n",
       "      <th>807</th>\n",
       "      <td>2010-08-25</td>\n",
       "    </tr>\n",
       "    <tr>\n",
       "      <th>808</th>\n",
       "      <td>2010-12-25</td>\n",
       "    </tr>\n",
       "    <tr>\n",
       "      <th>809</th>\n",
       "      <td>2010-12-26</td>\n",
       "    </tr>\n",
       "  </tbody>\n",
       "</table>\n",
       "<p>810 rows × 1 columns</p>\n",
       "</div>"
      ],
      "text/plain": [
       "          Date\n",
       "0   2010-01-01\n",
       "1   2010-04-02\n",
       "2   2010-04-05\n",
       "3   2010-05-03\n",
       "4   2010-05-31\n",
       "5   2010-08-30\n",
       "6   2010-12-27\n",
       "7   2010-12-28\n",
       "8   2011-01-03\n",
       "9   2011-04-22\n",
       "10  2011-04-25\n",
       "11  2011-04-29\n",
       "12  2011-05-02\n",
       "13  2011-05-30\n",
       "14  2011-08-29\n",
       "15  2011-12-26\n",
       "16  2011-12-27\n",
       "17  2012-01-02\n",
       "18  2012-04-06\n",
       "19  2012-04-09\n",
       "20  2012-05-07\n",
       "21  2012-06-04\n",
       "22  2012-06-05\n",
       "23  2012-08-27\n",
       "24  2012-12-25\n",
       "25  2012-12-26\n",
       "26  2013-01-01\n",
       "27  2013-03-29\n",
       "28  2013-04-01\n",
       "29  2013-05-06\n",
       "..         ...\n",
       "780 2007-04-11\n",
       "781 2007-05-02\n",
       "782 2007-05-30\n",
       "783 2007-08-29\n",
       "784 2007-12-26\n",
       "785 2007-12-27\n",
       "786 2008-01-02\n",
       "787 2008-03-30\n",
       "788 2008-04-02\n",
       "789 2008-05-07\n",
       "790 2008-05-28\n",
       "791 2008-08-27\n",
       "792 2008-12-25\n",
       "793 2008-12-26\n",
       "794 2009-01-01\n",
       "795 2009-04-19\n",
       "796 2009-04-22\n",
       "797 2009-05-06\n",
       "798 2009-05-27\n",
       "799 2009-08-26\n",
       "800 2009-12-25\n",
       "801 2009-12-26\n",
       "802 2010-01-01\n",
       "803 2010-04-04\n",
       "804 2010-04-07\n",
       "805 2010-05-05\n",
       "806 2010-05-26\n",
       "807 2010-08-25\n",
       "808 2010-12-25\n",
       "809 2010-12-26\n",
       "\n",
       "[810 rows x 1 columns]"
      ]
     },
     "execution_count": 89,
     "metadata": {},
     "output_type": "execute_result"
    }
   ],
   "source": []
  },
  {
   "cell_type": "markdown",
   "metadata": {},
   "source": [
    "### Import major London cycle accidents"
   ]
  },
  {
   "cell_type": "code",
   "execution_count": 74,
   "metadata": {},
   "outputs": [],
   "source": [
    "cyc = pd.read_csv('../raw-data/cycle-deaths-injuries.csv')"
   ]
  },
  {
   "cell_type": "code",
   "execution_count": 75,
   "metadata": {},
   "outputs": [],
   "source": [
    "death = cyc[cyc['Type']=='death']\n",
    "death = list(death['Date'])\n",
    "inj = cyc[cyc['Type']=='injury']\n",
    "inj = list(inj['Date'])"
   ]
  },
  {
   "cell_type": "markdown",
   "metadata": {},
   "source": [
    "\n",
    "## Import network size data"
   ]
  },
  {
   "cell_type": "code",
   "execution_count": 76,
   "metadata": {
    "scrolled": true
   },
   "outputs": [],
   "source": [
    "nw = pd.read_csv(\"../raw-data/hire-bike-volumes.csv\")\n",
    "\n",
    "nw = nw.rename(columns={'Stations':'Dock_Points'})\n",
    "nw['Date'] = pd.to_datetime(nw['Date'], dayfirst=True).dt.date\n",
    "\n",
    "#impute missing values using last known or estimated value\n",
    "nw = nw.fillna(method='ffill')\n",
    "nw =nw.replace({'Registration': {'Yes': True, 'No': False},\n",
    "               'Weekly_Fee':{'y': True, 'n': False}})"
   ]
  },
  {
   "cell_type": "markdown",
   "metadata": {},
   "source": [
    "### Create dataframe of previous and future dates"
   ]
  },
  {
   "cell_type": "code",
   "execution_count": 77,
   "metadata": {},
   "outputs": [],
   "source": [
    "dates = [d for d in pd.date_range('20100730','20201231')] # until end of 2020\n",
    "dates = pd.DataFrame(dates, columns=['Date'])\n",
    "dates['Date'] = pd.to_datetime(dates['Date']).dt.date"
   ]
  },
  {
   "cell_type": "markdown",
   "metadata": {},
   "source": [
    "### Join Daily Cycle Hire, Aggregated Daily Weather, and Network Size data"
   ]
  },
  {
   "cell_type": "code",
   "execution_count": 78,
   "metadata": {},
   "outputs": [],
   "source": [
    "daily = dates.merge(dh, how='left', on='Date')\n",
    "daily = daily.merge(wrd, how='left', on='Date')\n",
    "daily = daily.merge(nw, how='left', on='Date')\n",
    "daily['Date'] = pd.to_datetime(daily['Date'])\n",
    "daily = daily.sort_values(by=\"Date\")"
   ]
  },
  {
   "cell_type": "code",
   "execution_count": 79,
   "metadata": {},
   "outputs": [],
   "source": [
    "fill_cols = ['Bicycles','Dock_Points','Registration','Sponsor','Fee','Weekly_Fee','Mobike','Ofo','Obike','Urbo']\n",
    "daily[fill_cols] = daily[fill_cols].fillna(method='ffill')\n",
    "daily['Comp_bikes'] = daily[['Mobike','Ofo','Obike','Urbo']].sum(axis=1)\n",
    "daily['hpb'] = daily['Hires'] / daily['Bicycles'] #hires per bike"
   ]
  },
  {
   "cell_type": "markdown",
   "metadata": {},
   "source": [
    "### Add strikes, bank holidays and accidents"
   ]
  },
  {
   "cell_type": "code",
   "execution_count": 80,
   "metadata": {},
   "outputs": [],
   "source": [
    "daily['Strike_Evening'] = daily['Date'].isin(strikes['Strike_Evening'])\n",
    "daily['Strike_Daytime'] = daily['Date'].isin(strikes['Strike_Daytime'])\n",
    "daily['Strike'] = (daily['Strike_Evening']) | (daily['Strike_Daytime'])\n",
    "daily['Bank_Hol'] = daily['Date'].isin(bank['Date'])"
   ]
  },
  {
   "cell_type": "code",
   "execution_count": 81,
   "metadata": {},
   "outputs": [],
   "source": [
    "daily['Death'] = daily['Date'].isin(death)\n",
    "daily['Inj'] = daily['Date'].isin(inj)\n",
    "daily['KSI'] = (daily['Death']) | (daily['Inj'])\n",
    "daily['KSI_day_before'] = daily['KSI'].shift(1)"
   ]
  },
  {
   "cell_type": "markdown",
   "metadata": {},
   "source": [
    "### Derive extra columns"
   ]
  },
  {
   "cell_type": "code",
   "execution_count": 82,
   "metadata": {},
   "outputs": [],
   "source": [
    "daily['Month'] = daily['Date'].dt.month\n",
    "daily['Year'] = daily['Date'].dt.year\n",
    "daily['Day_of_Week'] = daily['Date'].dt.weekday\n",
    "daily['Weekend'] = daily['Day_of_Week'] > 4\n",
    "daily['Day_of_Year'] = daily['Date'].dt.dayofyear\n",
    "\n",
    "daily['Wkend_or_Hol'] = (daily['Bank_Hol']) | (daily['Weekend'])\n",
    "daily['Date'] = daily['Date'].dt.date\n",
    "daily = daily.sort_values(by=\"Date\")\n",
    "days=[\"Mon\",\"Tues\",\"Wed\",\"Thu\",\"Fri\",\"Sat\",\"Sun\"]\n",
    "\n",
    "\n",
    "def day(number):\n",
    "    return days[number]\n",
    "\n",
    "daily['Day'] = daily['Day_of_Week'].apply(day)"
   ]
  },
  {
   "cell_type": "markdown",
   "metadata": {},
   "source": [
    "### Import and add daylight hours"
   ]
  },
  {
   "cell_type": "code",
   "execution_count": null,
   "metadata": {},
   "outputs": [],
   "source": [
    "light = pd.read_csv('../raw-data/civil-twilight-2017.csv')\n",
    "\n",
    "light['Dark'] = pd.to_datetime(light['Dark'],format= '%H:%M')\n",
    "light['Light'] = pd.to_datetime(light['Light'],format= '%H:%M')\n",
    "\n",
    "light['Hours_Light'] = (light['Dark'] - light['Light'])\n",
    "light['Dark'] = light['Dark'].dt.time\n",
    "light['Light'] = light['Light'].dt.time\n",
    "\n",
    "light['Hours_Light'] = (light['Hours_Light'].dt.seconds) / 3600\n",
    "\n",
    "light['Day_of_Year'] = pd.to_datetime(light['Date']).dt.dayofyear\n",
    "light = light.drop(['Date'], axis=1)\n",
    "\n",
    "daily = daily.merge(light, how='left', on='Day_of_Year')"
   ]
  },
  {
   "cell_type": "code",
   "execution_count": 88,
   "metadata": {},
   "outputs": [],
   "source": [
    "daily.to_csv('../data/daily.csv', index=False)"
   ]
  }
 ],
 "metadata": {
  "kernelspec": {
   "display_name": "Python 3",
   "language": "python",
   "name": "python3"
  },
  "language_info": {
   "codemirror_mode": {
    "name": "ipython",
    "version": 3
   },
   "file_extension": ".py",
   "mimetype": "text/x-python",
   "name": "python",
   "nbconvert_exporter": "python",
   "pygments_lexer": "ipython3",
   "version": "3.6.6"
  }
 },
 "nbformat": 4,
 "nbformat_minor": 2
}
