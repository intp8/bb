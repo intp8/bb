{
 "cells": [
  {
   "cell_type": "code",
   "execution_count": 1,
   "metadata": {
    "extensions": {
     "jupyter_dashboards": {
      "version": 1,
      "views": {
       "grid_default": {},
       "report_default": {
        "hidden": true
       }
      }
     }
    }
   },
   "outputs": [],
   "source": [
    "import pandas as pd\n",
    "import numpy as np\n",
    "import seaborn as sns\n",
    "\n",
    "import ipywidgets as w\n",
    "from IPython.display import display\n",
    "from IPython.display import clear_output\n",
    "\n",
    "sns.set(palette='Set1')"
   ]
  },
  {
   "cell_type": "markdown",
   "metadata": {
    "extensions": {
     "jupyter_dashboards": {
      "version": 1,
      "views": {
       "grid_default": {},
       "report_default": {
        "hidden": true
       }
      }
     }
    }
   },
   "source": [
    "### Load pre-processed detailed cycle count survey data (4 quarterly surveys, 2017-18)"
   ]
  },
  {
   "cell_type": "code",
   "execution_count": 2,
   "metadata": {
    "extensions": {
     "jupyter_dashboards": {
      "version": 1,
      "views": {
       "grid_default": {},
       "report_default": {
        "hidden": true
       }
      }
     }
    }
   },
   "outputs": [],
   "source": [
    "df = pd.read_csv('data/detailed-survey-extra-cols.csv') # 15MB file\n",
    "df['TimeStamp'] = pd.to_datetime(df['TimeStamp'],format= '%H:%M:%S').dt.time"
   ]
  },
  {
   "cell_type": "markdown",
   "metadata": {
    "extensions": {
     "jupyter_dashboards": {
      "version": 1,
      "views": {
       "grid_default": {},
       "report_default": {
        "hidden": true
       }
      }
     }
    }
   },
   "source": [
    "### Create additional columns"
   ]
  },
  {
   "cell_type": "code",
   "execution_count": 3,
   "metadata": {
    "extensions": {
     "jupyter_dashboards": {
      "version": 1,
      "views": {
       "grid_default": {},
       "report_default": {
        "hidden": true
       }
      }
     }
    }
   },
   "outputs": [],
   "source": [
    "def float_time_mid_15(timestamp):\n",
    "    mid = timestamp.hour + ((timestamp.minute + 7.5) / 60)\n",
    "    return mid\n",
    "\n",
    "def start_hour_mid(start_hour):\n",
    "    mid = start_hour + 0.5\n",
    "    return mid\n",
    "\n",
    "df['Survey Time'] = df['TimeStamp'].apply(float_time_mid_15)\n",
    "df['Hour Mid'] = df['Start Hour'].apply(start_hour_mid)"
   ]
  },
  {
   "cell_type": "markdown",
   "metadata": {
    "extensions": {
     "jupyter_dashboards": {
      "version": 1,
      "views": {
       "grid_default": {},
       "report_default": {
        "hidden": true
       }
      }
     }
    }
   },
   "source": [
    "### Create variables and aggregation functions required for drawing graphs"
   ]
  },
  {
   "cell_type": "code",
   "execution_count": 4,
   "metadata": {
    "extensions": {
     "jupyter_dashboards": {
      "version": 1,
      "views": {
       "grid_default": {},
       "report_default": {
        "hidden": true
       }
      }
     }
    }
   },
   "outputs": [],
   "source": [
    "def calc_means(df):\n",
    "    hire = df['Number of cycle hire bikes'].mean()\n",
    "    other = df['Number of normal cycles'].mean()\n",
    "    total = df['Total cycles'].mean()\n",
    "    return {'hire':hire, \n",
    "            'other':other, \n",
    "            'total':total}\n",
    "\n",
    "means = calc_means(df)\n",
    "av_hire = means['hire']\n",
    "av_other = means['other']\n",
    "\n",
    "def interval(period):\n",
    "    \n",
    "    intervaldict = {'Early Morning': 1,\n",
    "               'AM Peak': 2,\n",
    "               'Inter Peak': 3,\n",
    "               'PM Peak': 4,\n",
    "               'Late Evening': 5}\n",
    "    if type(period) in (int,float):\n",
    "        x = period\n",
    "       \n",
    "    else:\n",
    "        x = intervaldict[period]\n",
    "    return x\n",
    "\n",
    "option_df_boolean = {\n",
    "    'Weather': 'Bad Weather',\n",
    "    'Day of week':'Weekend',\n",
    "    'Daylight':'Dark'}\n",
    "\n",
    "option_pair_labels = {\n",
    "    'Weather': ['Bad Weather','Good Weather'],\n",
    "    'Day of week':['Weekend','Weekday'],\n",
    "    'Daylight':['Dark','Light']}\n",
    "\n",
    "def filterdf(option,groupby,dfcustom=df):\n",
    "    if option == 'All':\n",
    "        df_option = tidyfiltered(dfcustom,groupby,'All')       \n",
    "     \n",
    "    else:    \n",
    "        boolean = option_df_boolean[option]\n",
    "        true_label = option_pair_labels[option][0]\n",
    "        df_true = dfcustom[dfcustom[boolean]==True]\n",
    "        df_true = tidyfiltered(df_true,groupby,true_label) \n",
    "\n",
    "        boolean = option_df_boolean[option]\n",
    "        df_false = dfcustom[dfcustom[boolean]==False]\n",
    "        \n",
    "        false_label = option_pair_labels[option][1]\n",
    "        df_false = tidyfiltered(df_false,groupby,false_label) \n",
    "\n",
    "        df_option = df_true.append(df_false)\n",
    "    \n",
    "    return df_option\n",
    "\n",
    "def tidyfiltered(df, groupby, which):\n",
    "         \n",
    "    dfg = df.groupby(groupby).mean().reset_index()    \n",
    "    dfg['hire-bike-%'] = dfg['Number of cycle hire bikes'] / dfg['Total cycles']\n",
    "    dfg['Hire bikes'] = dfg['Number of cycle hire bikes'] / av_hire\n",
    "    dfg['Other bikes'] = dfg['Number of normal cycles'] / av_other           \n",
    "    dfg = dfg.sort_values(by='Start Hour')    \n",
    "\n",
    "    dfgsub = dfg[[groupby,'Hire bikes','Other bikes']]\n",
    "    dfgg = pd.melt(dfgsub, id_vars=[groupby])\n",
    "    dfgg.columns = [groupby,'Bike type', 'Number']\n",
    "    dfgg['Interval'] = dfgg[groupby].apply(interval)    \n",
    "    dfgg['Selection'] = which\n",
    "        \n",
    "    dfgg = dfgg.sort_values(by='Interval') \n",
    "    \n",
    "    return dfgg"
   ]
  },
  {
   "cell_type": "markdown",
   "metadata": {
    "extensions": {
     "jupyter_dashboards": {
      "version": 1,
      "views": {
       "grid_default": {},
       "report_default": {
        "hidden": true
       }
      }
     }
    }
   },
   "source": [
    "### Function for production of graphs"
   ]
  },
  {
   "cell_type": "code",
   "execution_count": 5,
   "metadata": {
    "extensions": {
     "jupyter_dashboards": {
      "version": 1,
      "views": {
       "grid_default": {},
       "report_default": {
        "hidden": true
       }
      }
     }
    }
   },
   "outputs": [],
   "source": [
    "def draw_graphs(var,groupby): \n",
    "        \n",
    "    graphs = filterdf(var,groupby) \n",
    "        \n",
    "    if groupby != 'Peak Period':\n",
    "        graphs = graphs[[groupby,'Number','Selection','Bike type']]        \n",
    "        \n",
    "        if groupby == 'Survey Time':\n",
    "            hours = list(range(6,22))            \n",
    "            selections = list(graphs['Selection'].unique())\n",
    "            bike_types = list(graphs['Bike type'].unique())\n",
    "            \n",
    "            #the below could be more succinct\n",
    "            for s in selections:\n",
    "                df_filt = graphs\n",
    "                df_filt_s = df_filt[df_filt['Selection']==s]\n",
    "                for bt in bike_types:                    \n",
    "                    df_filt_bt = df_filt_s[df_filt_s['Bike type']==bt] \n",
    "                    for h in hours:                   \n",
    "                        fhl = list(df_filt_bt[groupby])\n",
    "                        fhl2 = [int(v) for v in fhl]\n",
    "\n",
    "                        if h not in fhl2:  \n",
    "                            row = [h, 0, s, bt]\n",
    "                            graphs.loc[len(graphs)] = row                        \n",
    "                        \n",
    "                        else:                            \n",
    "                            continue \n",
    "        \n",
    "        g = sns.relplot(x=groupby, y='Number', col='Selection', hue='Bike type', kind='line',\n",
    "                        hue_order=['Hire bikes', 'Other bikes'],\n",
    "                        data=graphs, col_wrap=2)\n",
    "        if groupby == 'Survey Time':\n",
    "            g.set(xlim=(3,23),xticks=[4,6,8,10,12,14,16,18,20,22])\n",
    "            \n",
    "    else:\n",
    "        g = sns.catplot(x=groupby, y='Number', col='Selection', \n",
    "                        order=['Early Morning','AM Peak','Inter Peak','PM Peak','Late Evening'],\n",
    "                        hue_order=['Hire bikes', 'Other bikes'],\n",
    "                        hue='Bike type', kind='bar', sharey=True, data=graphs, col_wrap=2)\n",
    "        g.set_xticklabels(rotation=45)\n",
    "    \n",
    "    g.set(ylim=(0,3.5))"
   ]
  },
  {
   "cell_type": "markdown",
   "metadata": {
    "extensions": {
     "jupyter_dashboards": {
      "version": 1,
      "views": {
       "grid_default": {},
       "report_default": {
        "hidden": true
       }
      }
     }
    }
   },
   "source": [
    "### Create interactive dropdown options for graphs"
   ]
  },
  {
   "cell_type": "code",
   "execution_count": 6,
   "metadata": {
    "extensions": {
     "jupyter_dashboards": {
      "version": 1,
      "views": {
       "grid_default": {},
       "report_default": {
        "hidden": true
       }
      }
     }
    }
   },
   "outputs": [],
   "source": [
    "opts = w.Select(\n",
    "    options=['All','Day of week', 'Weather', 'Daylight'],\n",
    "    value='All',\n",
    "    description='Selection',\n",
    "    disabled=False)\n",
    "\n",
    "timegp = w.Select(\n",
    "    options=['Peak Period','Start Hour'],\n",
    "    value='Peak Period',\n",
    "    description='Time Grouping',\n",
    "    disabled=False)\n",
    "\n",
    "butt = w.Button(\n",
    "    description='Update',\n",
    "    disabled=False)\n",
    "\n",
    "def on_update(b):\n",
    "    clear_output()\n",
    "    display(ctrls)\n",
    "    draw_graphs(opts.value,'Peak Period')    \n",
    "    draw_graphs(opts.value,'Survey Time')\n",
    "    draw_graphs(opts.value,'Month')     "
   ]
  },
  {
   "cell_type": "markdown",
   "metadata": {
    "extensions": {
     "jupyter_dashboards": {
      "version": 1,
      "views": {
       "grid_default": {},
       "report_default": {
        "hidden": true
       }
      }
     }
    }
   },
   "source": [
    "#### 'Peak Period' times"
   ]
  },
  {
   "cell_type": "code",
   "execution_count": 7,
   "metadata": {
    "extensions": {
     "jupyter_dashboards": {
      "version": 1,
      "views": {
       "grid_default": {},
       "report_default": {
        "hidden": true
       }
      }
     }
    }
   },
   "outputs": [
    {
     "data": {
      "text/html": [
       "<div>\n",
       "<style scoped>\n",
       "    .dataframe tbody tr th:only-of-type {\n",
       "        vertical-align: middle;\n",
       "    }\n",
       "\n",
       "    .dataframe tbody tr th {\n",
       "        vertical-align: top;\n",
       "    }\n",
       "\n",
       "    .dataframe thead th {\n",
       "        text-align: right;\n",
       "    }\n",
       "</style>\n",
       "<table border=\"1\" class=\"dataframe\">\n",
       "  <thead>\n",
       "    <tr style=\"text-align: right;\">\n",
       "      <th></th>\n",
       "      <th>Period</th>\n",
       "      <th>Start</th>\n",
       "    </tr>\n",
       "  </thead>\n",
       "  <tbody>\n",
       "    <tr>\n",
       "      <th>1</th>\n",
       "      <td>Early Morning</td>\n",
       "      <td>06:00:00</td>\n",
       "    </tr>\n",
       "    <tr>\n",
       "      <th>0</th>\n",
       "      <td>AM Peak</td>\n",
       "      <td>07:00:00</td>\n",
       "    </tr>\n",
       "    <tr>\n",
       "      <th>2</th>\n",
       "      <td>Inter Peak</td>\n",
       "      <td>10:00:00</td>\n",
       "    </tr>\n",
       "    <tr>\n",
       "      <th>4</th>\n",
       "      <td>PM Peak</td>\n",
       "      <td>16:00:00</td>\n",
       "    </tr>\n",
       "    <tr>\n",
       "      <th>3</th>\n",
       "      <td>Late Evening</td>\n",
       "      <td>19:00:00</td>\n",
       "    </tr>\n",
       "  </tbody>\n",
       "</table>\n",
       "</div>"
      ],
      "text/plain": [
       "          Period     Start\n",
       "1  Early Morning  06:00:00\n",
       "0        AM Peak  07:00:00\n",
       "2     Inter Peak  10:00:00\n",
       "4        PM Peak  16:00:00\n",
       "3   Late Evening  19:00:00"
      ]
     },
     "execution_count": 7,
     "metadata": {},
     "output_type": "execute_result"
    }
   ],
   "source": [
    "pdsmin = df.groupby('Peak Period').min().reset_index()\n",
    "pdscols = ['Peak Period','TimeStamp']\n",
    "pdsmin = pdsmin[pdscols]\n",
    "pdsmin.columns = ['Period','Start']\n",
    "pdsmin.sort_values(by='Start')"
   ]
  },
  {
   "cell_type": "markdown",
   "metadata": {
    "extensions": {
     "jupyter_dashboards": {
      "version": 1,
      "views": {
       "grid_default": {},
       "report_default": {
        "hidden": true
       }
      }
     }
    }
   },
   "source": [
    "##### Notebook needs to be run in an interactive environment to use selection controls and view all outputs."
   ]
  },
  {
   "cell_type": "code",
   "execution_count": 8,
   "metadata": {
    "extensions": {
     "jupyter_dashboards": {
      "version": 1,
      "views": {
       "grid_default": {},
       "report_default": {
        "hidden": false
       }
      }
     }
    }
   },
   "outputs": [
    {
     "data": {
      "application/vnd.jupyter.widget-view+json": {
       "model_id": "3c2dd975eb2a486c9cfc41cd2d33c5f9",
       "version_major": 2,
       "version_minor": 0
      },
      "text/plain": [
       "VBox(children=(Select(description='Selection', options=('All', 'Day of week', 'Weather', 'Daylight'), value='A…"
      ]
     },
     "metadata": {},
     "output_type": "display_data"
    },
    {
     "data": {
      "image/png": "[encoded data removed]",
      "text/plain": [
       "<Figure size 815.975x360 with 1 Axes>"
      ]
     },
     "metadata": {
      "needs_background": "light"
     },
     "output_type": "display_data"
    },
    {
     "data": {
      "image/png": "[encoded data removed]",
      "text/plain": [
       "<Figure size 815.975x360 with 1 Axes>"
      ]
     },
     "metadata": {
      "needs_background": "light"
     },
     "output_type": "display_data"
    },
    {
     "data": {
      "image/png": "[encoded data removed]",
      "text/plain": [
       "<Figure size 815.975x360 with 1 Axes>"
      ]
     },
     "metadata": {
      "needs_background": "light"
     },
     "output_type": "display_data"
    }
   ],
   "source": [
    "ctrls = w.VBox([opts,butt])\n",
    "display(ctrls)\n",
    "butt.on_click(on_update)"
   ]
  },
  {
   "cell_type": "markdown",
   "metadata": {
    "extensions": {
     "jupyter_dashboards": {
      "version": 1,
      "views": {
       "grid_default": {},
       "report_default": {
        "hidden": false
       }
      }
     }
    }
   },
   "source": [
    "\n",
    "\n",
    "- Remarkably similar pattern of use at weekends\n",
    "- Hire bikes see relatively more use between rush hours than other bikes\n",
    "- Hire bike use in the evening rush hour peaks a little earlier\n",
    "\n",
    "##### bad weather = ['cold','frost','wet','damp','sleet','snow','rain','shower','drizzle','hail']\n",
    "- Relative impact on hire bikes is greater in the evening and either side of lunchtime, but not in the morning\n",
    "- People on their own bikes have more incentive to use for returning home?\n",
    "- Darkness and bad weather together may deter hire bike users more than other bikes, but use is still quite high\n",
    "  \n",
    "\n",
    "  \n"
   ]
  }
 ],
 "metadata": {
  "extensions": {
   "jupyter_dashboards": {
    "activeView": "report_default",
    "version": 1,
    "views": {
     "grid_default": {
      "cellMargin": 10,
      "defaultCellHeight": 20,
      "maxColumns": 12,
      "name": "grid",
      "type": "grid"
     },
     "report_default": {
      "name": "report",
      "type": "report"
     }
    }
   }
  },
  "kernelspec": {
   "display_name": "Python 3",
   "language": "python",
   "name": "python3"
  },
  "language_info": {
   "codemirror_mode": {
    "name": "ipython",
    "version": 3
   },
   "file_extension": ".py",
   "mimetype": "text/x-python",
   "name": "python",
   "nbconvert_exporter": "python",
   "pygments_lexer": "ipython3",
   "version": "3.6.6"
  },
  "widgets": {
   "application/vnd.jupyter.widget-state+json": {
    "state": {
     "073fbfe4ca224ffc934f3f6be343575c": {
      "model_module": "@jupyter-widgets/controls",
      "model_module_version": "1.4.0",
      "model_name": "DescriptionStyleModel",
      "state": {
       "description_width": ""
      }
     },
     "1b8276dcd3124de6b65c49df93f3e72d": {
      "model_module": "@jupyter-widgets/controls",
      "model_module_version": "1.4.0",
      "model_name": "VBoxModel",
      "state": {
       "children": [
        "IPY_MODEL_2e457e9ae7644db2b781af4662a4125f",
        "IPY_MODEL_3e861759d9c14a16b7f7a5a8c4147da8"
       ],
       "layout": "IPY_MODEL_cee616e0af094bd69e1ac5c11d822487"
      }
     },
     "1ccbc2b03d8541ee9605ea211dd0d026": {
      "model_module": "@jupyter-widgets/controls",
      "model_module_version": "1.4.0",
      "model_name": "DescriptionStyleModel",
      "state": {
       "description_width": ""
      }
     },
     "1d3b7f8b700c4b76b0c1184658813e3e": {
      "model_module": "@jupyter-widgets/controls",
      "model_module_version": "1.4.0",
      "model_name": "DropdownModel",
      "state": {
       "_options_labels": [
        "All",
        "Good",
        "Bad"
       ],
       "description": "Weather",
       "index": 0,
       "layout": "IPY_MODEL_b1f0eab0cd4f49b09264a983d6492b2b",
       "style": "IPY_MODEL_f5a9666cca864f26adf2925132a06ffe"
      }
     },
     "206c80a864b14b52a53d6f32680b5137": {
      "model_module": "@jupyter-widgets/base",
      "model_module_version": "1.1.0",
      "model_name": "LayoutModel",
      "state": {}
     },
     "222dbb3fa2f14660904b52c3979434ef": {
      "model_module": "@jupyter-widgets/controls",
      "model_module_version": "1.4.0",
      "model_name": "ButtonStyleModel",
      "state": {}
     },
     "231d153129ec41708bd94a3cbe7592c1": {
      "model_module": "@jupyter-widgets/base",
      "model_module_version": "1.1.0",
      "model_name": "LayoutModel",
      "state": {}
     },
     "2e457e9ae7644db2b781af4662a4125f": {
      "model_module": "@jupyter-widgets/controls",
      "model_module_version": "1.4.0",
      "model_name": "SelectModel",
      "state": {
       "_options_labels": [
        "All",
        "Day of week",
        "Weather",
        "Daylight"
       ],
       "description": "Selection",
       "index": 2,
       "layout": "IPY_MODEL_e71550c8e93d431893ff786eb907a8c9",
       "style": "IPY_MODEL_e0275dd6703645f8824f581f918a2ba1"
      }
     },
     "3323a0dfad1a4da884c892c9e3b3b868": {
      "model_module": "@jupyter-widgets/controls",
      "model_module_version": "1.4.0",
      "model_name": "DropdownModel",
      "state": {
       "_options_labels": [
        "All",
        "Weather",
        "Time of week"
       ],
       "description": "Graph",
       "index": 0,
       "layout": "IPY_MODEL_aa74d97f352048c68f6226935070b4c0",
       "style": "IPY_MODEL_472271abd1764dd1baebd9910e824f66"
      }
     },
     "3461e0072ff94f71a099a40cb60f974d": {
      "model_module": "@jupyter-widgets/controls",
      "model_module_version": "1.4.0",
      "model_name": "DescriptionStyleModel",
      "state": {
       "description_width": ""
      }
     },
     "3536bdb4d85746d589cda53a129cf91e": {
      "model_module": "@jupyter-widgets/controls",
      "model_module_version": "1.4.0",
      "model_name": "DropdownModel",
      "state": {
       "_options_labels": [
        "All",
        "Weather",
        "Time of week"
       ],
       "description": "Graph",
       "index": 0,
       "layout": "IPY_MODEL_62b3744dd14c449f96a3d74343c3fc6b",
       "style": "IPY_MODEL_3461e0072ff94f71a099a40cb60f974d"
      }
     },
     "3573841a6485495e823413fb6ccab7cd": {
      "model_module": "@jupyter-widgets/base",
      "model_module_version": "1.1.0",
      "model_name": "LayoutModel",
      "state": {}
     },
     "3811822a83434ac1a23467e6fb2f5228": {
      "model_module": "@jupyter-widgets/controls",
      "model_module_version": "1.4.0",
      "model_name": "DescriptionStyleModel",
      "state": {
       "description_width": ""
      }
     },
     "3e861759d9c14a16b7f7a5a8c4147da8": {
      "model_module": "@jupyter-widgets/controls",
      "model_module_version": "1.4.0",
      "model_name": "ButtonModel",
      "state": {
       "description": "Update",
       "layout": "IPY_MODEL_231d153129ec41708bd94a3cbe7592c1",
       "style": "IPY_MODEL_222dbb3fa2f14660904b52c3979434ef"
      }
     },
     "4277a9db6b0d4e8f9a08a07e98b07fd7": {
      "model_module": "@jupyter-widgets/base",
      "model_module_version": "1.1.0",
      "model_name": "LayoutModel",
      "state": {}
     },
     "4313596332cb45c19ffa109d2263f932": {
      "model_module": "@jupyter-widgets/base",
      "model_module_version": "1.1.0",
      "model_name": "LayoutModel",
      "state": {}
     },
     "465fed6836694843ad76f2956616ec0a": {
      "model_module": "@jupyter-widgets/controls",
      "model_module_version": "1.4.0",
      "model_name": "DropdownModel",
      "state": {
       "_options_labels": [
        "All",
        "Weekday",
        "Weekend"
       ],
       "description": "Time of week",
       "index": 0,
       "layout": "IPY_MODEL_4277a9db6b0d4e8f9a08a07e98b07fd7",
       "style": "IPY_MODEL_d543cb76c83f4ebfbb9442f13728c91a"
      }
     },
     "472271abd1764dd1baebd9910e824f66": {
      "model_module": "@jupyter-widgets/controls",
      "model_module_version": "1.4.0",
      "model_name": "DescriptionStyleModel",
      "state": {
       "description_width": ""
      }
     },
     "4aa115fb096f4a41b0b9b0ef53628104": {
      "model_module": "@jupyter-widgets/controls",
      "model_module_version": "1.4.0",
      "model_name": "DropdownModel",
      "state": {
       "_options_labels": [
        "All",
        "Light",
        "Dark"
       ],
       "description": "Daylight",
       "index": 0,
       "layout": "IPY_MODEL_206c80a864b14b52a53d6f32680b5137",
       "style": "IPY_MODEL_b0419123ee7649b3aae10c483cac5b97"
      }
     },
     "5b936979dd06472aa58f69783c6837b6": {
      "model_module": "@jupyter-widgets/controls",
      "model_module_version": "1.4.0",
      "model_name": "VBoxModel",
      "state": {
       "children": [
        "IPY_MODEL_6c91f215ee2b4ea6ae6a1b9476c92a14",
        "IPY_MODEL_bb3614a960544d0daf6ab434e3f939d2"
       ],
       "layout": "IPY_MODEL_4313596332cb45c19ffa109d2263f932"
      }
     },
     "5db37cbad88942eaa2255db9bc90a5f1": {
      "model_module": "@jupyter-widgets/controls",
      "model_module_version": "1.4.0",
      "model_name": "SelectModel",
      "state": {
       "_options_labels": [
        "Peak Period",
        "Start Hour"
       ],
       "description": "Time Grouping",
       "index": 0,
       "layout": "IPY_MODEL_e8b9560f4d504832acdf61b2d60124a2",
       "style": "IPY_MODEL_e6916ecfd4514fcb8d837a4732b49178"
      }
     },
     "62b3744dd14c449f96a3d74343c3fc6b": {
      "model_module": "@jupyter-widgets/base",
      "model_module_version": "1.1.0",
      "model_name": "LayoutModel",
      "state": {}
     },
     "66c9527f881a4cc9bd88828601c7b694": {
      "model_module": "@jupyter-widgets/controls",
      "model_module_version": "1.4.0",
      "model_name": "DescriptionStyleModel",
      "state": {
       "description_width": ""
      }
     },
     "6c91f215ee2b4ea6ae6a1b9476c92a14": {
      "model_module": "@jupyter-widgets/controls",
      "model_module_version": "1.4.0",
      "model_name": "SelectModel",
      "state": {
       "_options_labels": [
        "All",
        "Day of week",
        "Weather",
        "Daylight"
       ],
       "description": "Selection",
       "index": 2,
       "layout": "IPY_MODEL_f21a77e3d2a84e0c8984571b60ebdf14",
       "style": "IPY_MODEL_1ccbc2b03d8541ee9605ea211dd0d026"
      }
     },
     "7b869baa6d9040a1a112a2025595d975": {
      "model_module": "@jupyter-widgets/controls",
      "model_module_version": "1.4.0",
      "model_name": "DropdownModel",
      "state": {
       "_options_labels": [
        "All",
        "Light",
        "Dark"
       ],
       "description": "Daylight",
       "index": 0,
       "layout": "IPY_MODEL_c423f1212b744165b303bcd927936e1d",
       "style": "IPY_MODEL_3811822a83434ac1a23467e6fb2f5228"
      }
     },
     "9f3f2e6f14d741eaa174a6a2308785a8": {
      "model_module": "@jupyter-widgets/base",
      "model_module_version": "1.1.0",
      "model_name": "LayoutModel",
      "state": {}
     },
     "a11041f2665a46f592f10e706d08bf16": {
      "model_module": "@jupyter-widgets/controls",
      "model_module_version": "1.4.0",
      "model_name": "ButtonStyleModel",
      "state": {}
     },
     "a29e1014acc94c5791b131188c2434f4": {
      "model_module": "@jupyter-widgets/controls",
      "model_module_version": "1.4.0",
      "model_name": "DropdownModel",
      "state": {
       "_options_labels": [
        "All",
        "Weekday",
        "Weekend"
       ],
       "description": "Time of week",
       "index": 0,
       "layout": "IPY_MODEL_3573841a6485495e823413fb6ccab7cd",
       "style": "IPY_MODEL_073fbfe4ca224ffc934f3f6be343575c"
      }
     },
     "a470e6393de64affa16f91b624e922ac": {
      "model_module": "@jupyter-widgets/controls",
      "model_module_version": "1.4.0",
      "model_name": "DescriptionStyleModel",
      "state": {
       "description_width": ""
      }
     },
     "aa74d97f352048c68f6226935070b4c0": {
      "model_module": "@jupyter-widgets/base",
      "model_module_version": "1.1.0",
      "model_name": "LayoutModel",
      "state": {}
     },
     "b0419123ee7649b3aae10c483cac5b97": {
      "model_module": "@jupyter-widgets/controls",
      "model_module_version": "1.4.0",
      "model_name": "DescriptionStyleModel",
      "state": {
       "description_width": ""
      }
     },
     "b1f0eab0cd4f49b09264a983d6492b2b": {
      "model_module": "@jupyter-widgets/base",
      "model_module_version": "1.1.0",
      "model_name": "LayoutModel",
      "state": {}
     },
     "bb3614a960544d0daf6ab434e3f939d2": {
      "model_module": "@jupyter-widgets/controls",
      "model_module_version": "1.4.0",
      "model_name": "ButtonModel",
      "state": {
       "description": "Update",
       "layout": "IPY_MODEL_9f3f2e6f14d741eaa174a6a2308785a8",
       "style": "IPY_MODEL_a11041f2665a46f592f10e706d08bf16"
      }
     },
     "c423f1212b744165b303bcd927936e1d": {
      "model_module": "@jupyter-widgets/base",
      "model_module_version": "1.1.0",
      "model_name": "LayoutModel",
      "state": {}
     },
     "cee616e0af094bd69e1ac5c11d822487": {
      "model_module": "@jupyter-widgets/base",
      "model_module_version": "1.1.0",
      "model_name": "LayoutModel",
      "state": {}
     },
     "d543cb76c83f4ebfbb9442f13728c91a": {
      "model_module": "@jupyter-widgets/controls",
      "model_module_version": "1.4.0",
      "model_name": "DescriptionStyleModel",
      "state": {
       "description_width": ""
      }
     },
     "d8c3826beb70423189ac7c074ae401f9": {
      "model_module": "@jupyter-widgets/base",
      "model_module_version": "1.1.0",
      "model_name": "LayoutModel",
      "state": {}
     },
     "dc4bb55ed15345a69ec6c63ce7f84c0a": {
      "model_module": "@jupyter-widgets/controls",
      "model_module_version": "1.4.0",
      "model_name": "DropdownModel",
      "state": {
       "_options_labels": [
        "All",
        "Good",
        "Bad"
       ],
       "description": "Weather",
       "index": 0,
       "layout": "IPY_MODEL_d8c3826beb70423189ac7c074ae401f9",
       "style": "IPY_MODEL_66c9527f881a4cc9bd88828601c7b694"
      }
     },
     "e0275dd6703645f8824f581f918a2ba1": {
      "model_module": "@jupyter-widgets/controls",
      "model_module_version": "1.4.0",
      "model_name": "DescriptionStyleModel",
      "state": {
       "description_width": ""
      }
     },
     "e6916ecfd4514fcb8d837a4732b49178": {
      "model_module": "@jupyter-widgets/controls",
      "model_module_version": "1.4.0",
      "model_name": "DescriptionStyleModel",
      "state": {
       "description_width": ""
      }
     },
     "e71550c8e93d431893ff786eb907a8c9": {
      "model_module": "@jupyter-widgets/base",
      "model_module_version": "1.1.0",
      "model_name": "LayoutModel",
      "state": {}
     },
     "e8b9560f4d504832acdf61b2d60124a2": {
      "model_module": "@jupyter-widgets/base",
      "model_module_version": "1.1.0",
      "model_name": "LayoutModel",
      "state": {}
     },
     "f14782dcc82d4666bbe37121cf776a42": {
      "model_module": "@jupyter-widgets/controls",
      "model_module_version": "1.4.0",
      "model_name": "SelectModel",
      "state": {
       "_options_labels": [
        "Peak Period",
        "Start Hour"
       ],
       "description": "Time Grouping",
       "index": 0,
       "layout": "IPY_MODEL_f5c8921e872c4b489fdee1e8f001beea",
       "style": "IPY_MODEL_a470e6393de64affa16f91b624e922ac"
      }
     },
     "f21a77e3d2a84e0c8984571b60ebdf14": {
      "model_module": "@jupyter-widgets/base",
      "model_module_version": "1.1.0",
      "model_name": "LayoutModel",
      "state": {}
     },
     "f5a9666cca864f26adf2925132a06ffe": {
      "model_module": "@jupyter-widgets/controls",
      "model_module_version": "1.4.0",
      "model_name": "DescriptionStyleModel",
      "state": {
       "description_width": ""
      }
     },
     "f5c8921e872c4b489fdee1e8f001beea": {
      "model_module": "@jupyter-widgets/base",
      "model_module_version": "1.1.0",
      "model_name": "LayoutModel",
      "state": {}
     }
    },
    "version_major": 2,
    "version_minor": 0
   }
  }
 },
 "nbformat": 4,
 "nbformat_minor": 2
}
